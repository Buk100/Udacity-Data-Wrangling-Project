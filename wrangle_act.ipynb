{
 "cells": [
  {
   "cell_type": "markdown",
   "id": "fe880cd4",
   "metadata": {},
   "source": [
    "# Project: Wrangling and Analyzing Data"
   ]
  },
  {
   "cell_type": "markdown",
   "id": "fac83cc6",
   "metadata": {},
   "source": [
    "## Introduction\n",
    "\n",
    "In this project, I will be using data from @WerateDog for my analysis.\n",
    "I will gather the data from three different sources, access it and clean it to the degree it is fit for my analysis.\n",
    "I will then explore the cleaned data to draw insight on dog breeds that are more popular among dog lovers."
   ]
  },
  {
   "cell_type": "markdown",
   "id": "d5d19b02",
   "metadata": {},
   "source": [
    "\n",
    "### Note:\n",
    "Import all libraries need for this project"
   ]
  },
  {
   "cell_type": "code",
   "execution_count": 1,
   "id": "615ac399",
   "metadata": {},
   "outputs": [],
   "source": [
    "# Import neccessary libraray\n",
    "import pandas as pd\n",
    "import numpy as np\n",
    "import requests\n",
    "import json\n",
    "%matplotlib inline\n",
    "import matplotlib.pyplot as plt\n",
    "import seaborn as sns\n",
    "# import tweepy"
   ]
  },
  {
   "cell_type": "markdown",
   "id": "581f8866",
   "metadata": {},
   "source": [
    "## Data Gathering"
   ]
  },
  {
   "cell_type": "markdown",
   "id": "e217741e",
   "metadata": {},
   "source": [
    "### Note:\n",
    "Load the twitter archive dataset to the dataframe."
   ]
  },
  {
   "cell_type": "code",
   "execution_count": 2,
   "id": "c63e9dc1",
   "metadata": {
    "scrolled": true
   },
   "outputs": [
    {
     "ename": "FileNotFoundError",
     "evalue": "[Errno 2] No such file or directory: 'twitter-archive-enhanced.csv'",
     "output_type": "error",
     "traceback": [
      "\u001b[1;31m---------------------------------------------------------------------------\u001b[0m",
      "\u001b[1;31mFileNotFoundError\u001b[0m                         Traceback (most recent call last)",
      "\u001b[1;32m~\\AppData\\Local\\Temp/ipykernel_10732/3871587138.py\u001b[0m in \u001b[0;36m<module>\u001b[1;34m\u001b[0m\n\u001b[0;32m      1\u001b[0m \u001b[1;31m# Load the twitter archive dataset to the dataframe.\u001b[0m\u001b[1;33m\u001b[0m\u001b[1;33m\u001b[0m\u001b[0m\n\u001b[1;32m----> 2\u001b[1;33m \u001b[0marchive\u001b[0m \u001b[1;33m=\u001b[0m \u001b[0mpd\u001b[0m\u001b[1;33m.\u001b[0m\u001b[0mread_csv\u001b[0m\u001b[1;33m(\u001b[0m\u001b[1;34m\"twitter-archive-enhanced.csv\"\u001b[0m\u001b[1;33m)\u001b[0m\u001b[1;33m\u001b[0m\u001b[1;33m\u001b[0m\u001b[0m\n\u001b[0m",
      "\u001b[1;32mC:\\ProgramData\\Anaconda3\\lib\\site-packages\\pandas\\util\\_decorators.py\u001b[0m in \u001b[0;36mwrapper\u001b[1;34m(*args, **kwargs)\u001b[0m\n\u001b[0;32m    309\u001b[0m                     \u001b[0mstacklevel\u001b[0m\u001b[1;33m=\u001b[0m\u001b[0mstacklevel\u001b[0m\u001b[1;33m,\u001b[0m\u001b[1;33m\u001b[0m\u001b[1;33m\u001b[0m\u001b[0m\n\u001b[0;32m    310\u001b[0m                 )\n\u001b[1;32m--> 311\u001b[1;33m             \u001b[1;32mreturn\u001b[0m \u001b[0mfunc\u001b[0m\u001b[1;33m(\u001b[0m\u001b[1;33m*\u001b[0m\u001b[0margs\u001b[0m\u001b[1;33m,\u001b[0m \u001b[1;33m**\u001b[0m\u001b[0mkwargs\u001b[0m\u001b[1;33m)\u001b[0m\u001b[1;33m\u001b[0m\u001b[1;33m\u001b[0m\u001b[0m\n\u001b[0m\u001b[0;32m    312\u001b[0m \u001b[1;33m\u001b[0m\u001b[0m\n\u001b[0;32m    313\u001b[0m         \u001b[1;32mreturn\u001b[0m \u001b[0mwrapper\u001b[0m\u001b[1;33m\u001b[0m\u001b[1;33m\u001b[0m\u001b[0m\n",
      "\u001b[1;32mC:\\ProgramData\\Anaconda3\\lib\\site-packages\\pandas\\io\\parsers\\readers.py\u001b[0m in \u001b[0;36mread_csv\u001b[1;34m(filepath_or_buffer, sep, delimiter, header, names, index_col, usecols, squeeze, prefix, mangle_dupe_cols, dtype, engine, converters, true_values, false_values, skipinitialspace, skiprows, skipfooter, nrows, na_values, keep_default_na, na_filter, verbose, skip_blank_lines, parse_dates, infer_datetime_format, keep_date_col, date_parser, dayfirst, cache_dates, iterator, chunksize, compression, thousands, decimal, lineterminator, quotechar, quoting, doublequote, escapechar, comment, encoding, encoding_errors, dialect, error_bad_lines, warn_bad_lines, on_bad_lines, delim_whitespace, low_memory, memory_map, float_precision, storage_options)\u001b[0m\n\u001b[0;32m    584\u001b[0m     \u001b[0mkwds\u001b[0m\u001b[1;33m.\u001b[0m\u001b[0mupdate\u001b[0m\u001b[1;33m(\u001b[0m\u001b[0mkwds_defaults\u001b[0m\u001b[1;33m)\u001b[0m\u001b[1;33m\u001b[0m\u001b[1;33m\u001b[0m\u001b[0m\n\u001b[0;32m    585\u001b[0m \u001b[1;33m\u001b[0m\u001b[0m\n\u001b[1;32m--> 586\u001b[1;33m     \u001b[1;32mreturn\u001b[0m \u001b[0m_read\u001b[0m\u001b[1;33m(\u001b[0m\u001b[0mfilepath_or_buffer\u001b[0m\u001b[1;33m,\u001b[0m \u001b[0mkwds\u001b[0m\u001b[1;33m)\u001b[0m\u001b[1;33m\u001b[0m\u001b[1;33m\u001b[0m\u001b[0m\n\u001b[0m\u001b[0;32m    587\u001b[0m \u001b[1;33m\u001b[0m\u001b[0m\n\u001b[0;32m    588\u001b[0m \u001b[1;33m\u001b[0m\u001b[0m\n",
      "\u001b[1;32mC:\\ProgramData\\Anaconda3\\lib\\site-packages\\pandas\\io\\parsers\\readers.py\u001b[0m in \u001b[0;36m_read\u001b[1;34m(filepath_or_buffer, kwds)\u001b[0m\n\u001b[0;32m    480\u001b[0m \u001b[1;33m\u001b[0m\u001b[0m\n\u001b[0;32m    481\u001b[0m     \u001b[1;31m# Create the parser.\u001b[0m\u001b[1;33m\u001b[0m\u001b[1;33m\u001b[0m\u001b[0m\n\u001b[1;32m--> 482\u001b[1;33m     \u001b[0mparser\u001b[0m \u001b[1;33m=\u001b[0m \u001b[0mTextFileReader\u001b[0m\u001b[1;33m(\u001b[0m\u001b[0mfilepath_or_buffer\u001b[0m\u001b[1;33m,\u001b[0m \u001b[1;33m**\u001b[0m\u001b[0mkwds\u001b[0m\u001b[1;33m)\u001b[0m\u001b[1;33m\u001b[0m\u001b[1;33m\u001b[0m\u001b[0m\n\u001b[0m\u001b[0;32m    483\u001b[0m \u001b[1;33m\u001b[0m\u001b[0m\n\u001b[0;32m    484\u001b[0m     \u001b[1;32mif\u001b[0m \u001b[0mchunksize\u001b[0m \u001b[1;32mor\u001b[0m \u001b[0miterator\u001b[0m\u001b[1;33m:\u001b[0m\u001b[1;33m\u001b[0m\u001b[1;33m\u001b[0m\u001b[0m\n",
      "\u001b[1;32mC:\\ProgramData\\Anaconda3\\lib\\site-packages\\pandas\\io\\parsers\\readers.py\u001b[0m in \u001b[0;36m__init__\u001b[1;34m(self, f, engine, **kwds)\u001b[0m\n\u001b[0;32m    809\u001b[0m             \u001b[0mself\u001b[0m\u001b[1;33m.\u001b[0m\u001b[0moptions\u001b[0m\u001b[1;33m[\u001b[0m\u001b[1;34m\"has_index_names\"\u001b[0m\u001b[1;33m]\u001b[0m \u001b[1;33m=\u001b[0m \u001b[0mkwds\u001b[0m\u001b[1;33m[\u001b[0m\u001b[1;34m\"has_index_names\"\u001b[0m\u001b[1;33m]\u001b[0m\u001b[1;33m\u001b[0m\u001b[1;33m\u001b[0m\u001b[0m\n\u001b[0;32m    810\u001b[0m \u001b[1;33m\u001b[0m\u001b[0m\n\u001b[1;32m--> 811\u001b[1;33m         \u001b[0mself\u001b[0m\u001b[1;33m.\u001b[0m\u001b[0m_engine\u001b[0m \u001b[1;33m=\u001b[0m \u001b[0mself\u001b[0m\u001b[1;33m.\u001b[0m\u001b[0m_make_engine\u001b[0m\u001b[1;33m(\u001b[0m\u001b[0mself\u001b[0m\u001b[1;33m.\u001b[0m\u001b[0mengine\u001b[0m\u001b[1;33m)\u001b[0m\u001b[1;33m\u001b[0m\u001b[1;33m\u001b[0m\u001b[0m\n\u001b[0m\u001b[0;32m    812\u001b[0m \u001b[1;33m\u001b[0m\u001b[0m\n\u001b[0;32m    813\u001b[0m     \u001b[1;32mdef\u001b[0m \u001b[0mclose\u001b[0m\u001b[1;33m(\u001b[0m\u001b[0mself\u001b[0m\u001b[1;33m)\u001b[0m\u001b[1;33m:\u001b[0m\u001b[1;33m\u001b[0m\u001b[1;33m\u001b[0m\u001b[0m\n",
      "\u001b[1;32mC:\\ProgramData\\Anaconda3\\lib\\site-packages\\pandas\\io\\parsers\\readers.py\u001b[0m in \u001b[0;36m_make_engine\u001b[1;34m(self, engine)\u001b[0m\n\u001b[0;32m   1038\u001b[0m             )\n\u001b[0;32m   1039\u001b[0m         \u001b[1;31m# error: Too many arguments for \"ParserBase\"\u001b[0m\u001b[1;33m\u001b[0m\u001b[1;33m\u001b[0m\u001b[0m\n\u001b[1;32m-> 1040\u001b[1;33m         \u001b[1;32mreturn\u001b[0m \u001b[0mmapping\u001b[0m\u001b[1;33m[\u001b[0m\u001b[0mengine\u001b[0m\u001b[1;33m]\u001b[0m\u001b[1;33m(\u001b[0m\u001b[0mself\u001b[0m\u001b[1;33m.\u001b[0m\u001b[0mf\u001b[0m\u001b[1;33m,\u001b[0m \u001b[1;33m**\u001b[0m\u001b[0mself\u001b[0m\u001b[1;33m.\u001b[0m\u001b[0moptions\u001b[0m\u001b[1;33m)\u001b[0m  \u001b[1;31m# type: ignore[call-arg]\u001b[0m\u001b[1;33m\u001b[0m\u001b[1;33m\u001b[0m\u001b[0m\n\u001b[0m\u001b[0;32m   1041\u001b[0m \u001b[1;33m\u001b[0m\u001b[0m\n\u001b[0;32m   1042\u001b[0m     \u001b[1;32mdef\u001b[0m \u001b[0m_failover_to_python\u001b[0m\u001b[1;33m(\u001b[0m\u001b[0mself\u001b[0m\u001b[1;33m)\u001b[0m\u001b[1;33m:\u001b[0m\u001b[1;33m\u001b[0m\u001b[1;33m\u001b[0m\u001b[0m\n",
      "\u001b[1;32mC:\\ProgramData\\Anaconda3\\lib\\site-packages\\pandas\\io\\parsers\\c_parser_wrapper.py\u001b[0m in \u001b[0;36m__init__\u001b[1;34m(self, src, **kwds)\u001b[0m\n\u001b[0;32m     49\u001b[0m \u001b[1;33m\u001b[0m\u001b[0m\n\u001b[0;32m     50\u001b[0m         \u001b[1;31m# open handles\u001b[0m\u001b[1;33m\u001b[0m\u001b[1;33m\u001b[0m\u001b[0m\n\u001b[1;32m---> 51\u001b[1;33m         \u001b[0mself\u001b[0m\u001b[1;33m.\u001b[0m\u001b[0m_open_handles\u001b[0m\u001b[1;33m(\u001b[0m\u001b[0msrc\u001b[0m\u001b[1;33m,\u001b[0m \u001b[0mkwds\u001b[0m\u001b[1;33m)\u001b[0m\u001b[1;33m\u001b[0m\u001b[1;33m\u001b[0m\u001b[0m\n\u001b[0m\u001b[0;32m     52\u001b[0m         \u001b[1;32massert\u001b[0m \u001b[0mself\u001b[0m\u001b[1;33m.\u001b[0m\u001b[0mhandles\u001b[0m \u001b[1;32mis\u001b[0m \u001b[1;32mnot\u001b[0m \u001b[1;32mNone\u001b[0m\u001b[1;33m\u001b[0m\u001b[1;33m\u001b[0m\u001b[0m\n\u001b[0;32m     53\u001b[0m \u001b[1;33m\u001b[0m\u001b[0m\n",
      "\u001b[1;32mC:\\ProgramData\\Anaconda3\\lib\\site-packages\\pandas\\io\\parsers\\base_parser.py\u001b[0m in \u001b[0;36m_open_handles\u001b[1;34m(self, src, kwds)\u001b[0m\n\u001b[0;32m    220\u001b[0m         \u001b[0mLet\u001b[0m \u001b[0mthe\u001b[0m \u001b[0mreaders\u001b[0m \u001b[0mopen\u001b[0m \u001b[0mIOHandles\u001b[0m \u001b[0mafter\u001b[0m \u001b[0mthey\u001b[0m \u001b[0mare\u001b[0m \u001b[0mdone\u001b[0m \u001b[1;32mwith\u001b[0m \u001b[0mtheir\u001b[0m \u001b[0mpotential\u001b[0m \u001b[0mraises\u001b[0m\u001b[1;33m.\u001b[0m\u001b[1;33m\u001b[0m\u001b[1;33m\u001b[0m\u001b[0m\n\u001b[0;32m    221\u001b[0m         \"\"\"\n\u001b[1;32m--> 222\u001b[1;33m         self.handles = get_handle(\n\u001b[0m\u001b[0;32m    223\u001b[0m             \u001b[0msrc\u001b[0m\u001b[1;33m,\u001b[0m\u001b[1;33m\u001b[0m\u001b[1;33m\u001b[0m\u001b[0m\n\u001b[0;32m    224\u001b[0m             \u001b[1;34m\"r\"\u001b[0m\u001b[1;33m,\u001b[0m\u001b[1;33m\u001b[0m\u001b[1;33m\u001b[0m\u001b[0m\n",
      "\u001b[1;32mC:\\ProgramData\\Anaconda3\\lib\\site-packages\\pandas\\io\\common.py\u001b[0m in \u001b[0;36mget_handle\u001b[1;34m(path_or_buf, mode, encoding, compression, memory_map, is_text, errors, storage_options)\u001b[0m\n\u001b[0;32m    700\u001b[0m         \u001b[1;32mif\u001b[0m \u001b[0mioargs\u001b[0m\u001b[1;33m.\u001b[0m\u001b[0mencoding\u001b[0m \u001b[1;32mand\u001b[0m \u001b[1;34m\"b\"\u001b[0m \u001b[1;32mnot\u001b[0m \u001b[1;32min\u001b[0m \u001b[0mioargs\u001b[0m\u001b[1;33m.\u001b[0m\u001b[0mmode\u001b[0m\u001b[1;33m:\u001b[0m\u001b[1;33m\u001b[0m\u001b[1;33m\u001b[0m\u001b[0m\n\u001b[0;32m    701\u001b[0m             \u001b[1;31m# Encoding\u001b[0m\u001b[1;33m\u001b[0m\u001b[1;33m\u001b[0m\u001b[0m\n\u001b[1;32m--> 702\u001b[1;33m             handle = open(\n\u001b[0m\u001b[0;32m    703\u001b[0m                 \u001b[0mhandle\u001b[0m\u001b[1;33m,\u001b[0m\u001b[1;33m\u001b[0m\u001b[1;33m\u001b[0m\u001b[0m\n\u001b[0;32m    704\u001b[0m                 \u001b[0mioargs\u001b[0m\u001b[1;33m.\u001b[0m\u001b[0mmode\u001b[0m\u001b[1;33m,\u001b[0m\u001b[1;33m\u001b[0m\u001b[1;33m\u001b[0m\u001b[0m\n",
      "\u001b[1;31mFileNotFoundError\u001b[0m: [Errno 2] No such file or directory: 'twitter-archive-enhanced.csv'"
     ]
    }
   ],
   "source": [
    "# Load the twitter archive dataset to the dataframe.\n",
    "archive = pd.read_csv(\"twitter-archive-enhanced.csv\")"
   ]
  },
  {
   "cell_type": "code",
   "execution_count": null,
   "id": "4cbad112",
   "metadata": {},
   "outputs": [],
   "source": [
    "# Take a look at the first few rows to confirm \n",
    "archive.head()"
   ]
  },
  {
   "cell_type": "markdown",
   "id": "24adf158",
   "metadata": {},
   "source": [
    "### Note:\n",
    "Load the image predictions dataset to the dataset using the requests library."
   ]
  },
  {
   "cell_type": "code",
   "execution_count": null,
   "id": "ca764e52",
   "metadata": {},
   "outputs": [],
   "source": [
    "# url \n",
    "url = \"https://d17h27t6h515a5.cloudfront.net/topher/2017/August/599fd2ad_image-predictions/image-predictions.tsv\"\n",
    "\n"
   ]
  },
  {
   "cell_type": "code",
   "execution_count": null,
   "id": "96850b2e",
   "metadata": {},
   "outputs": [],
   "source": [
    "# Requests to get url\n",
    "response = requests.get(url)"
   ]
  },
  {
   "cell_type": "code",
   "execution_count": null,
   "id": "ceff0652",
   "metadata": {},
   "outputs": [],
   "source": [
    "# write content to file\n",
    "with open(\"image_file\", \"wb\") as my_file:\n",
    "    my_file.write(response.content)"
   ]
  },
  {
   "cell_type": "code",
   "execution_count": null,
   "id": "40c5875c",
   "metadata": {},
   "outputs": [],
   "source": [
    "# load the created file into dataframe.\n",
    "image = pd.read_csv(\"image_file\", delimiter=\"\\t\")"
   ]
  },
  {
   "cell_type": "code",
   "execution_count": null,
   "id": "7a16433a",
   "metadata": {},
   "outputs": [],
   "source": [
    "image.head(3)"
   ]
  },
  {
   "cell_type": "markdown",
   "id": "cae621b0",
   "metadata": {},
   "source": [
    "#### Note:\n",
    "Gather additional twitter data."
   ]
  },
  {
   "cell_type": "code",
   "execution_count": null,
   "id": "abb31a61",
   "metadata": {
    "scrolled": true
   },
   "outputs": [],
   "source": [
    "tweet = pd.read_json(\"tweet.json\", lines=True)"
   ]
  },
  {
   "cell_type": "code",
   "execution_count": null,
   "id": "968fb871",
   "metadata": {
    "scrolled": true
   },
   "outputs": [],
   "source": [
    "tweet.info()"
   ]
  },
  {
   "cell_type": "markdown",
   "id": "72232cfe",
   "metadata": {},
   "source": [
    "### Note:\n",
    "The id, retweet_count and favourite_count columns are the only columns useful for the analysis.\n",
    "Hence, Only this data will be gathered.\n",
    "\n"
   ]
  },
  {
   "cell_type": "code",
   "execution_count": null,
   "id": "21d95bae",
   "metadata": {},
   "outputs": [],
   "source": [
    "# Take the dataframe of this columns and store.\n",
    "tweet = tweet[[\"id\", \"retweet_count\", \"favorite_count\"]]"
   ]
  },
  {
   "cell_type": "code",
   "execution_count": null,
   "id": "d591f3aa",
   "metadata": {},
   "outputs": [],
   "source": [
    "# A quick look.\n",
    "tweet.info()"
   ]
  },
  {
   "cell_type": "markdown",
   "id": "2b5868cc",
   "metadata": {},
   "source": [
    "## Accesing Data\n",
    "In this section, I will be accesing all the datasets gathered in the Data gathering section. This will be done both visually and programmatically.\n",
    "\n",
    "Accessing the data includes identifying and putting  down both quality and tidiness issues that may be found with the datasets.\n",
    "\n",
    "This issues will later be cleaned in the \"Cleaning Data\" section."
   ]
  },
  {
   "cell_type": "markdown",
   "id": "10b0f3d7",
   "metadata": {},
   "source": [
    "### Note:\n",
    "Visually access the archive datasets, indentifying both quality and tidiness issues.\n"
   ]
  },
  {
   "cell_type": "markdown",
   "id": "34548a6f",
   "metadata": {},
   "source": [
    "### Note:\n",
    "I will set the number of rows in pandas to unlimited to be able to visually access files down the rows.\n",
    "\n",
    "I will also use microsoft excel to visualize access data."
   ]
  },
  {
   "cell_type": "code",
   "execution_count": null,
   "id": "d41f62a7",
   "metadata": {
    "scrolled": true
   },
   "outputs": [],
   "source": [
    "# Display archive data\n",
    "\n",
    "archive"
   ]
  },
  {
   "cell_type": "markdown",
   "id": "b2cfe02e",
   "metadata": {},
   "source": [
    "###  Note:\n",
    "In the next set of cells, I will be accessing the twitter archive data programmatically."
   ]
  },
  {
   "cell_type": "code",
   "execution_count": null,
   "id": "06192790",
   "metadata": {
    "scrolled": true
   },
   "outputs": [],
   "source": [
    "# Check archive information programmably to access data for data type, \n",
    "# number of rows and column and missing data.\n",
    "\n",
    "archive.info()"
   ]
  },
  {
   "cell_type": "code",
   "execution_count": null,
   "id": "914348a0",
   "metadata": {},
   "outputs": [],
   "source": [
    "# Access integer data for incorrect data such as outliers and the likes.\n",
    "\n",
    "archive.describe()"
   ]
  },
  {
   "cell_type": "code",
   "execution_count": null,
   "id": "cf671d1e",
   "metadata": {},
   "outputs": [],
   "source": [
    "# Access data for the unique values of rating denominator for values other than 10.\n",
    "\n",
    "archive[\"rating_denominator\"].value_counts()"
   ]
  },
  {
   "cell_type": "code",
   "execution_count": null,
   "id": "041ab9a3",
   "metadata": {
    "scrolled": true
   },
   "outputs": [],
   "source": [
    "# Check for the number of data that has the rating_numerator less than or equal to rating_denominator.\n",
    "\n",
    "(archive[\"rating_numerator\"] <= archive[\"rating_denominator\"]).value_counts()"
   ]
  },
  {
   "cell_type": "code",
   "execution_count": null,
   "id": "fec82ef9",
   "metadata": {},
   "outputs": [],
   "source": [
    "# Check for the number of data that has the rating_numerator less than 10.\n",
    "\n",
    "\n",
    "(archive[\"rating_numerator\"] <10).value_counts()"
   ]
  },
  {
   "cell_type": "code",
   "execution_count": null,
   "id": "0f07db0d",
   "metadata": {
    "scrolled": false
   },
   "outputs": [],
   "source": [
    "# Check for the number of data that has the rating_denominator not equal to 10. \n",
    "\n",
    "(archive[\"rating_denominator\"] !=10).value_counts()"
   ]
  },
  {
   "cell_type": "code",
   "execution_count": null,
   "id": "ac1d817d",
   "metadata": {
    "scrolled": true
   },
   "outputs": [],
   "source": [
    "# Check for the number of data that has the rating_denominator greater than 10.\n",
    "archive[archive[\"rating_denominator\"] > 10]"
   ]
  },
  {
   "cell_type": "code",
   "execution_count": null,
   "id": "b00c2c6b",
   "metadata": {},
   "outputs": [],
   "source": [
    "# Access the names of dogs for missing value, wrong spelling and incorrect data\n",
    "\n",
    "archive[\"name\"]"
   ]
  },
  {
   "cell_type": "code",
   "execution_count": null,
   "id": "84716ee7",
   "metadata": {
    "scrolled": true
   },
   "outputs": [],
   "source": [
    "# Check the number of floofers in the floofer column.\n",
    "\n",
    "archive[\"floofer\"].value_counts()"
   ]
  },
  {
   "cell_type": "code",
   "execution_count": null,
   "id": "7b239846",
   "metadata": {
    "scrolled": true
   },
   "outputs": [],
   "source": [
    "# Access p1 column for unique values and errors in data.\n",
    "\n",
    "archive[\"source\"].value_counts()\n",
    "\n"
   ]
  },
  {
   "cell_type": "code",
   "execution_count": null,
   "id": "87fcff1a",
   "metadata": {
    "scrolled": true
   },
   "outputs": [],
   "source": [
    "# Visually access in_reply_to_user_id for missing and incorrect data.\n",
    "archive[\"in_reply_to_user_id\"]"
   ]
  },
  {
   "cell_type": "markdown",
   "id": "9d540032",
   "metadata": {},
   "source": [
    "### Note: \n",
    "Visual assessment of image information data in the following cell"
   ]
  },
  {
   "cell_type": "code",
   "execution_count": null,
   "id": "73e168d5",
   "metadata": {
    "scrolled": true
   },
   "outputs": [],
   "source": [
    "image"
   ]
  },
  {
   "cell_type": "markdown",
   "id": "bf94f77e",
   "metadata": {},
   "source": [
    "### Note: \n",
    "Programmatic assessment of image information data in the following cell"
   ]
  },
  {
   "cell_type": "code",
   "execution_count": null,
   "id": "4d4190f4",
   "metadata": {
    "scrolled": true
   },
   "outputs": [],
   "source": [
    "# Check image information programmably to access data for data type, \n",
    "# number of rows and columns and missing data.\n",
    "\n",
    "image.info()"
   ]
  },
  {
   "cell_type": "code",
   "execution_count": null,
   "id": "5d1c852e",
   "metadata": {
    "scrolled": true
   },
   "outputs": [],
   "source": [
    "# Access integer data for incorrect data such as outliers and the likes.\n",
    "\n",
    "image.describe()"
   ]
  },
  {
   "cell_type": "code",
   "execution_count": null,
   "id": "e6922b11",
   "metadata": {
    "scrolled": true
   },
   "outputs": [],
   "source": [
    "# Access p1 column for unique values and errors in data.\n",
    "\n",
    "image[\"p1\"].value_counts()"
   ]
  },
  {
   "cell_type": "code",
   "execution_count": null,
   "id": "c7ee6642",
   "metadata": {
    "scrolled": true
   },
   "outputs": [],
   "source": []
  },
  {
   "cell_type": "markdown",
   "id": "db3b0c0e",
   "metadata": {},
   "source": [
    "### Note:\n",
    "\n",
    "Visually access the tweet dataset, indentifying both quality and tidiness issues."
   ]
  },
  {
   "cell_type": "code",
   "execution_count": null,
   "id": "0c21ee03",
   "metadata": {},
   "outputs": [],
   "source": [
    "tweet"
   ]
  },
  {
   "cell_type": "markdown",
   "id": "06c6f324",
   "metadata": {},
   "source": [
    "### Note:\n",
    "In the next set of ceells, I will be accessing the tweet data using programmatical means.\n"
   ]
  },
  {
   "cell_type": "code",
   "execution_count": null,
   "id": "723b1347",
   "metadata": {
    "scrolled": true
   },
   "outputs": [],
   "source": [
    "# Check tweet information programmably to access data for data type.\n",
    "# number of rows and column and missing data.\n",
    "\n",
    "tweet.info()"
   ]
  },
  {
   "cell_type": "code",
   "execution_count": null,
   "id": "96374711",
   "metadata": {
    "scrolled": false
   },
   "outputs": [],
   "source": [
    "# Access integer data for incorrect data such as outliers and the likes.\n",
    "# Also for statistical summary of data.\n",
    "tweet.describe()"
   ]
  },
  {
   "cell_type": "code",
   "execution_count": null,
   "id": "d2075d61",
   "metadata": {},
   "outputs": [],
   "source": [
    "archive[archive[\"rating_numerator\"]  == archive[\"rating_numerator\"].max()]"
   ]
  },
  {
   "cell_type": "markdown",
   "id": "f2847424",
   "metadata": {},
   "source": [
    "### Note:\n",
    "\n",
    "I highlight below the issues found with the datasets. These issues comprises both quality and tidiness issues(messy and untidy data). \n",
    "This issues were discovered through visual and programmatic assessments.\n",
    "The issues will be cleaned in the data cleaning sections."
   ]
  },
  {
   "cell_type": "markdown",
   "id": "c62e0a14",
   "metadata": {},
   "source": [
    "### Quality issues.\n",
    "\n",
    "#### twitter archive:\n",
    "\n",
    "- Some of the rating denominators has values other than 10\n",
    "    - I will be taking 10 as the standard rating value which dog rating values will be measured.\n",
    "    -  I'm only considering one dog at a time not multiple dogs at once.\n",
    "- The timestamp column is in a string data type instead of datetime\n",
    "- The tweet id is in integer format instead of string.\n",
    "- The doggo, floffer, pupper and puppo data are in string data type instead of category datatype.\n",
    "- Some values starts with lowercase in p1, p2 and p3 data.\n",
    "- Underscore in p1, p2 and p3 instead of space.\n",
    "- Html tag in source column.\n",
    "- There are data that are not about dogs in the dataset.\n",
    "- There are dog tweets with no image in the dataset.\n",
    "- There are outliers in the rating_numerator column. Values as high as 1776\n",
    "- Missing data in the following columns:\n",
    "    - in_reply_to_status_id\n",
    "    - in_reply_to_user_id\n",
    "    - retweeted_status_id\n",
    "    - retweeted_status_user_id\n",
    "    - retweeted_status_timestamp\n",
    "    - expanded_urls\n",
    "\n",
    "\n",
    "#### Image prediction:\n",
    "\n",
    "\n",
    "- Tweet id is in integer format instead of string.\n",
    "\n",
    "\n",
    "#### Tweet:\n",
    "\n",
    "- The id is in integer data type instead of string data type.\n",
    "- favourite_retweet is not simple enough to describe the column name. total_retweet will be better.\n",
    "- favourite_count is not simple enough to describe the column name. total_likes will be better.\n",
    "\n"
   ]
  },
  {
   "cell_type": "markdown",
   "id": "92843f6b",
   "metadata": {},
   "source": [
    "### Tidiness issues\n",
    "\n",
    "- The dog_stages columns: floofer, doggo, pupper and poppo are in different columns instead of one.\n",
    "- In the image prediction dataset, there are too many columns about the strength of the predictions.\n",
    "    - Cleaning should be performed on these prediction columns(p1,p1_conf, p1_dog p2, etc..) to produce a resultant outcome of fewer columns.\n",
    "- Tweet id appears in all the datasets instead of one.\n",
    "    - It's understandable because it will be useful for merging the datasets. Only one tweet_id data will be retained after merging. Other ones will be dropped."
   ]
  },
  {
   "cell_type": "markdown",
   "id": "711c320c",
   "metadata": {},
   "source": [
    "The following columns were dropped from the image dataset after the result of the prediction data(p1, p1_conf, p1_dog, p2, etc.) were used to separate dog records from non-dog records.\n",
    "\n",
    "- jpg_url\n",
    "- img_num\n",
    "- p1\n",
    "- p1_conf\n",
    "- p1_dog\n",
    "- p2\n",
    "- p2_conf\t\n",
    "- p2_dog\t\n",
    "- p3\t\n",
    "- p3_conf\t\n",
    "- p3_dog\n",
    "\n",
    "\n",
    "Other columns dropped include:\n",
    "\n",
    "- prediction\n",
    "- name\n",
    "- dog_stage\n",
    "- source\n",
    "- date"
   ]
  },
  {
   "cell_type": "markdown",
   "id": "15607226",
   "metadata": {},
   "source": [
    "## Data Cleaning"
   ]
  },
  {
   "cell_type": "markdown",
   "id": "1683d8e3",
   "metadata": {},
   "source": [
    "### Take a copy of all the three datasets for cleaning purpose"
   ]
  },
  {
   "cell_type": "code",
   "execution_count": null,
   "id": "2e69d6c2",
   "metadata": {},
   "outputs": [],
   "source": [
    "archive_clean = archive.copy()\n",
    "image_clean = image.copy()\n",
    "tweet_clean = tweet.copy()"
   ]
  },
  {
   "cell_type": "code",
   "execution_count": null,
   "id": "8ae4de02",
   "metadata": {},
   "outputs": [],
   "source": []
  },
  {
   "cell_type": "markdown",
   "id": "642fdfc6",
   "metadata": {},
   "source": [
    "### Missing Data\n",
    "\n",
    "The instruction states that retweeted tweets should be excluded from the analysis.\n",
    "Such data will be dropped.\n",
    "\n",
    "### Define\n",
    "Drop every rows that contains retweeted status id."
   ]
  },
  {
   "cell_type": "markdown",
   "id": "07c96c82",
   "metadata": {},
   "source": [
    "### Code:"
   ]
  },
  {
   "cell_type": "code",
   "execution_count": null,
   "id": "85441335",
   "metadata": {
    "scrolled": true
   },
   "outputs": [],
   "source": [
    "# Check the data information for name of column  before dropping.\n",
    "archive_clean.info()"
   ]
  },
  {
   "cell_type": "code",
   "execution_count": null,
   "id": "a057d384",
   "metadata": {},
   "outputs": [],
   "source": [
    "# Drop every rows that contains retweeted status id \n",
    "\n",
    "archive_clean = archive_clean[~archive_clean[\"retweeted_status_id\"].notnull()]"
   ]
  },
  {
   "cell_type": "markdown",
   "id": "cf6837e5",
   "metadata": {},
   "source": [
    "### Test"
   ]
  },
  {
   "cell_type": "code",
   "execution_count": null,
   "id": "e26dbcd3",
   "metadata": {},
   "outputs": [],
   "source": [
    "# Confirm result.\n",
    "archive_clean.info()"
   ]
  },
  {
   "cell_type": "code",
   "execution_count": null,
   "id": "bc71ad18",
   "metadata": {
    "scrolled": true
   },
   "outputs": [],
   "source": [
    "# Visually confirm the result.\n",
    "archive_clean.head(500)"
   ]
  },
  {
   "cell_type": "code",
   "execution_count": null,
   "id": "8bc7b5a1",
   "metadata": {},
   "outputs": [],
   "source": []
  },
  {
   "cell_type": "markdown",
   "id": "afec9f26",
   "metadata": {},
   "source": [
    "\n",
    "### Fixing missing data:\n",
    "\n",
    "The instruction says to only consider tweet with images.\n",
    "expanded_urls column contains links of tweets with images.\n",
    "\n",
    "### Define\n",
    "I will be taking out only the tweet data with images for analysis. This implies that tweets data with no images are dropped. "
   ]
  },
  {
   "cell_type": "markdown",
   "id": "9474bab1",
   "metadata": {},
   "source": [
    "### Code"
   ]
  },
  {
   "cell_type": "code",
   "execution_count": null,
   "id": "179f9b41",
   "metadata": {},
   "outputs": [],
   "source": [
    "# Take out the data with no missing image data.\n",
    "archive_clean = archive_clean[archive_clean[\"expanded_urls\"].notnull()]"
   ]
  },
  {
   "cell_type": "markdown",
   "id": "53410810",
   "metadata": {},
   "source": [
    "### Test"
   ]
  },
  {
   "cell_type": "code",
   "execution_count": null,
   "id": "40dee1f9",
   "metadata": {},
   "outputs": [],
   "source": [
    "# Check the new the dataset for null values. \n",
    "archive_clean[\"expanded_urls\"].isnull().sum() \n",
    "\n",
    "# A result of zero confirms we now have only tweets with images."
   ]
  },
  {
   "cell_type": "code",
   "execution_count": null,
   "id": "a3dc7ece",
   "metadata": {
    "scrolled": true
   },
   "outputs": [],
   "source": [
    "# Check data information to confirm.\n",
    "archive_clean.info()"
   ]
  },
  {
   "cell_type": "markdown",
   "id": "9a5c2b2d",
   "metadata": {},
   "source": [
    "### Tidiness\n",
    "\n",
    "The dog_stages columns: floofer, doggo, pupper and poppo are in different columns instead of one.\n"
   ]
  },
  {
   "cell_type": "markdown",
   "id": "d63b42b6",
   "metadata": {},
   "source": [
    "### Define\n",
    "Combine the values of the dog stages to form one column"
   ]
  },
  {
   "cell_type": "markdown",
   "id": "2482c3f2",
   "metadata": {},
   "source": [
    "### Code"
   ]
  },
  {
   "cell_type": "code",
   "execution_count": null,
   "id": "f399a318",
   "metadata": {},
   "outputs": [],
   "source": [
    "archive_clean[[\"doggo\", \"floofer\", \"pupper\", \"puppo\"]].value_counts()"
   ]
  },
  {
   "cell_type": "markdown",
   "id": "ec2a15c8",
   "metadata": {},
   "source": []
  },
  {
   "cell_type": "code",
   "execution_count": null,
   "id": "6a244433",
   "metadata": {},
   "outputs": [],
   "source": [
    "# Write a function with two parameters.\n",
    "def drop_col(dframe, row_col, axis=0):\n",
    "    dframe.drop(row_col, axis=axis, inplace=True)"
   ]
  },
  {
   "cell_type": "code",
   "execution_count": null,
   "id": "bbb48022",
   "metadata": {},
   "outputs": [],
   "source": [
    "# A list of dog stages\n",
    "dog_stages = ['doggo', 'floofer', 'pupper', 'puppo']\n",
    "\n",
    "# Replace none with non values after creating a new column for dog stages.\n",
    "\n",
    "archive_clean[dog_stages] = archive_clean[dog_stages].replace('None', np.nan)\n",
    "#twitter_archive_clean[['doggo', 'floofer', 'pupper', 'puppo']]\n",
    "\n",
    "def join_all(x):\n",
    "    return ', '.join(x.dropna().astype(str))\n",
    "\n",
    "    [[ 'floofer' , 'puppo']] ['','floofer','', 'puppo'] = [' ,floofer, ,puppo']\n",
    "\n",
    "archive_clean['dog_stages'] = archive_clean[dog_stages].apply(join_all, axis=1)\n",
    "\n",
    "# Replace empty string with non values.\n",
    "archive_clean['dog_stages'] = archive_clean['dog_stages'].replace('', np.nan)\n",
    "\n"
   ]
  },
  {
   "cell_type": "code",
   "execution_count": null,
   "id": "e2100722",
   "metadata": {},
   "outputs": [],
   "source": [
    "# Drop these columns : doggo, floofer, pupper, puppo\n",
    "drop_col(archive_clean, dog_stages, axis=1)"
   ]
  },
  {
   "cell_type": "markdown",
   "id": "2bf8c728",
   "metadata": {},
   "source": []
  },
  {
   "cell_type": "markdown",
   "id": "23c5fb90",
   "metadata": {},
   "source": [
    "### Test"
   ]
  },
  {
   "cell_type": "code",
   "execution_count": null,
   "id": "521c666f",
   "metadata": {
    "scrolled": true
   },
   "outputs": [],
   "source": [
    "# Check data information to confirm.\n",
    "archive_clean.info()"
   ]
  },
  {
   "cell_type": "code",
   "execution_count": null,
   "id": "7f3338e9",
   "metadata": {},
   "outputs": [],
   "source": [
    "# Visually check the dog_stages column for changes\n",
    "archive_clean"
   ]
  },
  {
   "cell_type": "code",
   "execution_count": null,
   "id": "7647d217",
   "metadata": {},
   "outputs": [],
   "source": []
  },
  {
   "cell_type": "markdown",
   "id": "12778023",
   "metadata": {},
   "source": [
    "#### Take 10 as the standard rating value for all dog ratings in the analysis\n",
    "#### This will also remove the incorrect data and outliers in the rating_denominator column.\n"
   ]
  },
  {
   "cell_type": "markdown",
   "id": "b65e72df",
   "metadata": {},
   "source": [
    "### Define\n",
    "\n",
    "Remove the data with rating denominators other than 10 from the twitter archive data for the sake of consistency."
   ]
  },
  {
   "cell_type": "markdown",
   "id": "b9ffdea4",
   "metadata": {},
   "source": [
    "### Code"
   ]
  },
  {
   "cell_type": "code",
   "execution_count": null,
   "id": "05c7092a",
   "metadata": {},
   "outputs": [],
   "source": [
    "# Remove the data with rating denominators other than 10 from the twitter archive data for the sake of consistency.\n",
    "\n",
    "archive_clean  = archive_clean[archive_clean[\"rating_denominator\"] == 10]"
   ]
  },
  {
   "cell_type": "markdown",
   "id": "92d21e15",
   "metadata": {},
   "source": [
    "### Test"
   ]
  },
  {
   "cell_type": "code",
   "execution_count": null,
   "id": "bdf0c2cd",
   "metadata": {},
   "outputs": [],
   "source": [
    "# Check data information to confirm change.\n",
    "\n",
    "archive_clean.info()"
   ]
  },
  {
   "cell_type": "code",
   "execution_count": null,
   "id": "035969da",
   "metadata": {},
   "outputs": [],
   "source": [
    "# Confirm that the only data in the rating_denominator column is 10.\n",
    "\n",
    "archive_clean[\"rating_denominator\"].value_counts()"
   ]
  },
  {
   "cell_type": "markdown",
   "id": "4ef307ad",
   "metadata": {},
   "source": [
    "### Fix timestamp column"
   ]
  },
  {
   "cell_type": "markdown",
   "id": "586e500c",
   "metadata": {},
   "source": [
    "### Define\n",
    "Convert string data type to datetime in archive_clean dataset."
   ]
  },
  {
   "cell_type": "markdown",
   "id": "3924a1ef",
   "metadata": {},
   "source": [
    "### Code\n",
    "\n"
   ]
  },
  {
   "cell_type": "code",
   "execution_count": null,
   "id": "e1c1acd4",
   "metadata": {},
   "outputs": [],
   "source": [
    "# Convert string data type to datetime in archive_clean dataset.\n",
    "\n",
    "archive_clean[\"timestamp\"] = pd.to_datetime(archive_clean[\"timestamp\"])"
   ]
  },
  {
   "cell_type": "markdown",
   "id": "393b8426",
   "metadata": {},
   "source": [
    "### Test"
   ]
  },
  {
   "cell_type": "code",
   "execution_count": null,
   "id": "574c98cb",
   "metadata": {
    "scrolled": true
   },
   "outputs": [],
   "source": [
    "archive_clean.info()"
   ]
  },
  {
   "cell_type": "markdown",
   "id": "3ebbfd01",
   "metadata": {},
   "source": [
    "#### Fix data type issue with tweet_id"
   ]
  },
  {
   "cell_type": "markdown",
   "id": "33209021",
   "metadata": {},
   "source": [
    "#### Define\n",
    "Convert integer data  to string data in tweet_id column."
   ]
  },
  {
   "cell_type": "markdown",
   "id": "d7900a0b",
   "metadata": {},
   "source": [
    "#### Code"
   ]
  },
  {
   "cell_type": "code",
   "execution_count": null,
   "id": "e0b7e07f",
   "metadata": {
    "scrolled": true
   },
   "outputs": [],
   "source": [
    "# Convert integer data  to string data.\n",
    "archive_clean[\"tweet_id\"] = archive_clean[\"tweet_id\"].astype(\"str\")"
   ]
  },
  {
   "cell_type": "markdown",
   "id": "bfc56e99",
   "metadata": {},
   "source": [
    "### Test"
   ]
  },
  {
   "cell_type": "code",
   "execution_count": null,
   "id": "4bb03fbf",
   "metadata": {},
   "outputs": [],
   "source": [
    "# Check information to confirm change.\n",
    "\n",
    "archive_clean.info()"
   ]
  },
  {
   "cell_type": "markdown",
   "id": "c5596722",
   "metadata": {},
   "source": [
    "### Get rid of html tags in source columns."
   ]
  },
  {
   "cell_type": "markdown",
   "id": "a99e653b",
   "metadata": {},
   "source": [
    "### Define\n",
    "Extract the values from the html tags in source column.\n",
    "\n"
   ]
  },
  {
   "cell_type": "markdown",
   "id": "ff917254",
   "metadata": {},
   "source": [
    "#### Code"
   ]
  },
  {
   "cell_type": "code",
   "execution_count": null,
   "id": "d5e0b115",
   "metadata": {
    "scrolled": false
   },
   "outputs": [],
   "source": [
    "# This code extract the text element from the html tags.\n",
    "archive_clean[\"source\"]  = archive_clean[\"source\"].str.split(\">\", expand=True)[1].str.split(\"<\", expand=True)[0]"
   ]
  },
  {
   "cell_type": "markdown",
   "id": "26adbc2f",
   "metadata": {},
   "source": [
    "### Test"
   ]
  },
  {
   "cell_type": "code",
   "execution_count": null,
   "id": "2a7ee159",
   "metadata": {
    "scrolled": true
   },
   "outputs": [],
   "source": [
    "# Print first five rows to confirm change.\n",
    "\n",
    "archive_clean[\"source\"].head()"
   ]
  },
  {
   "cell_type": "code",
   "execution_count": null,
   "id": "cf91be66",
   "metadata": {},
   "outputs": [],
   "source": []
  },
  {
   "cell_type": "markdown",
   "id": "f27677e0",
   "metadata": {},
   "source": [
    "### Fixing data type issues with tweet_id and id in image and tweet dataset"
   ]
  },
  {
   "cell_type": "markdown",
   "id": "2eade93b",
   "metadata": {},
   "source": [
    "\n",
    "#### Define\n",
    "Convert integer data to string data for tweet_id and id in image and tweet dataset"
   ]
  },
  {
   "cell_type": "markdown",
   "id": "46198e93",
   "metadata": {},
   "source": [
    "##### Code\n"
   ]
  },
  {
   "cell_type": "code",
   "execution_count": null,
   "id": "b0a416f7",
   "metadata": {},
   "outputs": [],
   "source": [
    "# Fix data type issue with tweet_id and id column.\n",
    "image_clean[\"tweet_id\"] = image_clean[\"tweet_id\"].astype(\"str\")\n",
    "tweet_clean[\"id\"] = tweet_clean[\"id\"].astype(\"str\")"
   ]
  },
  {
   "cell_type": "markdown",
   "id": "a593a353",
   "metadata": {},
   "source": [
    "#### Test"
   ]
  },
  {
   "cell_type": "code",
   "execution_count": null,
   "id": "a71e3b90",
   "metadata": {},
   "outputs": [],
   "source": [
    "# Check data information to confirm change.\n",
    "\n",
    "image_clean.info()"
   ]
  },
  {
   "cell_type": "code",
   "execution_count": null,
   "id": "0850282e",
   "metadata": {
    "scrolled": true
   },
   "outputs": [],
   "source": [
    "# Check data information to confirm change.\n",
    "\n",
    "tweet_clean.info()"
   ]
  },
  {
   "cell_type": "code",
   "execution_count": null,
   "id": "a6ce7c26",
   "metadata": {},
   "outputs": [],
   "source": [
    "image.head()"
   ]
  },
  {
   "cell_type": "markdown",
   "id": "a5fa6508",
   "metadata": {},
   "source": []
  },
  {
   "cell_type": "markdown",
   "id": "db09d077",
   "metadata": {},
   "source": [
    "### Underscore in p1, p2 and p3 instead of space"
   ]
  },
  {
   "cell_type": "markdown",
   "id": "dd3a8281",
   "metadata": {},
   "source": [
    "#### Define\n",
    "Replace \"_\" with space in p1, p2 and p3"
   ]
  },
  {
   "cell_type": "markdown",
   "id": "9420d4fa",
   "metadata": {},
   "source": [
    "#### Code"
   ]
  },
  {
   "cell_type": "code",
   "execution_count": null,
   "id": "9568fd54",
   "metadata": {},
   "outputs": [],
   "source": [
    "# Replace \"_\" with space in p1, p2 and p3 column.\n",
    "\n",
    "image_clean[\"p1\"] = image_clean[\"p1\"].str.replace(\"_\", \" \")\n",
    "image_clean[\"p2\"] = image_clean[\"p2\"].str.replace(\"_\", \" \")\n",
    "image_clean[\"p3\"] = image_clean[\"p3\"].str.replace(\"_\", \" \")"
   ]
  },
  {
   "cell_type": "markdown",
   "id": "8cab7451",
   "metadata": {},
   "source": [
    "#### Test"
   ]
  },
  {
   "cell_type": "code",
   "execution_count": null,
   "id": "033f4922",
   "metadata": {
    "scrolled": true
   },
   "outputs": [],
   "source": [
    "# Print first five rows of p1, p2 and p3 column to confirm change.\n",
    "\n",
    "image_clean[[\"p1\",\"p2\", \"p3\"]].head()"
   ]
  },
  {
   "cell_type": "markdown",
   "id": "8a7c0f33",
   "metadata": {},
   "source": [
    "### Some values starts with lowercase in p1, p2 and p3 data of the image dataset"
   ]
  },
  {
   "cell_type": "markdown",
   "id": "cd7bfd0c",
   "metadata": {},
   "source": [
    "#### Define\n",
    "Convert first value of each word to uppercase in p1, p2 and p3."
   ]
  },
  {
   "cell_type": "markdown",
   "id": "c300a985",
   "metadata": {},
   "source": [
    "#### Code"
   ]
  },
  {
   "cell_type": "code",
   "execution_count": null,
   "id": "4d74b8fe",
   "metadata": {},
   "outputs": [],
   "source": [
    "# Convert first value of each word to uppercase in p1, p2 and p3.\n",
    "\n",
    "image_clean[\"p1\"]  = image_clean[\"p1\"].str.title()\n",
    "image_clean[\"p2\"]  = image_clean[\"p2\"].str.title()\n",
    "image_clean[\"p3\"]  = image_clean[\"p3\"].str.title()"
   ]
  },
  {
   "cell_type": "markdown",
   "id": "685f3c06",
   "metadata": {},
   "source": [
    "#### Test"
   ]
  },
  {
   "cell_type": "code",
   "execution_count": null,
   "id": "6ab0a4d5",
   "metadata": {},
   "outputs": [],
   "source": [
    "# Print first five rows to confirm result.\n",
    "\n",
    "image_clean[[\"p1\",\"p2\", \"p3\"]].head()"
   ]
  },
  {
   "cell_type": "code",
   "execution_count": null,
   "id": "b4b1f328",
   "metadata": {},
   "outputs": [],
   "source": []
  },
  {
   "cell_type": "markdown",
   "id": "2bfb0b97",
   "metadata": {
    "scrolled": true
   },
   "source": [
    "###  Fix tidiness Issues\n",
    "\n",
    "\n",
    " \n",
    "In the image prediction dataset, there are too many columns about the strength of the predictions and their result.\n",
    "\n",
    "\n",
    "Cleaning should be performed on these prediction columns(p1,p1_conf, p1_dog p2, etc..) to produce a resultant outcome of fewer columns.\n",
    "\n",
    "\n",
    "Create two new columns that will depict the same characteristics in the these columns(p1,p1_conf, p1_dog, p2, p2_conf, p2_dog, p3, p3_conf, p3_dog)."
   ]
  },
  {
   "cell_type": "markdown",
   "id": "6d7ea773",
   "metadata": {},
   "source": [
    "#### Define\n",
    "\n",
    "Extract out the data whose prediction is true for dogs.\n",
    "\n"
   ]
  },
  {
   "cell_type": "markdown",
   "id": "fd39c68a",
   "metadata": {},
   "source": [
    "#### Code "
   ]
  },
  {
   "cell_type": "code",
   "execution_count": null,
   "id": "f10dbfd1",
   "metadata": {},
   "outputs": [],
   "source": [
    "# Condition for the data whose prediction is true for dogs.\n",
    "\n",
    "condition = [(image_clean[\"p1_dog\"] == True), (image_clean[\"p2_dog\"] == True), (image_clean[\"p3_dog\"] == True)]"
   ]
  },
  {
   "cell_type": "code",
   "execution_count": null,
   "id": "8582185b",
   "metadata": {},
   "outputs": [],
   "source": [
    "# List of the dog breeds.\n",
    "\n",
    "dog_breed = [image_clean[\"p1\"], image_clean[\"p2\"], image_clean[\"p3\"] ]"
   ]
  },
  {
   "cell_type": "code",
   "execution_count": null,
   "id": "ea90b730",
   "metadata": {},
   "outputs": [],
   "source": [
    "dog_breed"
   ]
  },
  {
   "cell_type": "code",
   "execution_count": null,
   "id": "7e8a0322",
   "metadata": {},
   "outputs": [],
   "source": [
    "# List of the prediction(probablity) values.\n",
    "\n",
    "prediction = [image_clean[\"p1_conf\"], image_clean[\"p2_conf\"], image_clean[\"p3_conf\"]]"
   ]
  },
  {
   "cell_type": "code",
   "execution_count": null,
   "id": "257f8747",
   "metadata": {},
   "outputs": [],
   "source": [
    "# Take  the dog breed and prediction values for dog data and store in a new created columns: dog_breed and prediction.\n",
    "\n",
    "image_clean[\"dog_breed\"] = np.select(condition, dog_breed, default=None)\n",
    "image_clean[\"prediction\"] = np.select(condition, prediction, default=0)"
   ]
  },
  {
   "cell_type": "markdown",
   "id": "3b158aa2",
   "metadata": {},
   "source": [
    "### Test"
   ]
  },
  {
   "cell_type": "code",
   "execution_count": null,
   "id": "dc46c3c7",
   "metadata": {
    "scrolled": true
   },
   "outputs": [],
   "source": [
    "# Check dat information to confirm new created columns.\n",
    "\n",
    "image_clean.info()"
   ]
  },
  {
   "cell_type": "code",
   "execution_count": null,
   "id": "532ece08",
   "metadata": {
    "scrolled": true
   },
   "outputs": [],
   "source": [
    "# Print first 10 rows to confirm change.\n",
    "\n",
    "image_clean.head(10)"
   ]
  },
  {
   "cell_type": "code",
   "execution_count": null,
   "id": "d26b272c",
   "metadata": {},
   "outputs": [],
   "source": []
  },
  {
   "cell_type": "markdown",
   "id": "c2d15089",
   "metadata": {},
   "source": [
    "#### Define\n",
    "\n",
    "Since only data about dog tweet is needed for the analysis,  remove other data.\n",
    "\n",
    "#### Note:\n",
    "The values in the dog type column with null values are non-dog tweets."
   ]
  },
  {
   "cell_type": "markdown",
   "id": "2c256142",
   "metadata": {},
   "source": [
    "#### Code"
   ]
  },
  {
   "cell_type": "code",
   "execution_count": null,
   "id": "71cd6854",
   "metadata": {},
   "outputs": [],
   "source": [
    "# Extract out data where dog_breed values are not null.\n",
    "\n",
    "image_clean = image_clean[image_clean[\"dog_breed\"].notnull()]"
   ]
  },
  {
   "cell_type": "markdown",
   "id": "b6bb50c4",
   "metadata": {
    "collapsed": true
   },
   "source": [
    "####  Test"
   ]
  },
  {
   "cell_type": "code",
   "execution_count": null,
   "id": "7ce8b4cb",
   "metadata": {
    "scrolled": false
   },
   "outputs": [],
   "source": [
    "# Check data information to confirm non-dog tweets have been removed.\n",
    "\n",
    "image_clean.info()"
   ]
  },
  {
   "cell_type": "code",
   "execution_count": null,
   "id": "22f2e147",
   "metadata": {},
   "outputs": [],
   "source": []
  },
  {
   "cell_type": "markdown",
   "id": "cc477863",
   "metadata": {},
   "source": [
    "### Remove outliers in the rating_numerator column of twitter archive data.\n",
    "\n",
    "- There are outliers in the rating_numerator column. \n",
    "\n",
    "rating_numerator values are between 0 and 14 in the dataset.\n",
    "However, there are other few rating_numerator values which comprises 27, 75, 420, 26 and 1776. They only appear once in the dataset. I will consider them as outliers and abnormal records. I will remove their data records from the dataset.\n",
    "\n"
   ]
  },
  {
   "cell_type": "markdown",
   "id": "b4f1b19b",
   "metadata": {},
   "source": [
    "#### Define\n",
    "Remove outliers from rating_numerator columns"
   ]
  },
  {
   "cell_type": "markdown",
   "id": "0bd9d5d9",
   "metadata": {},
   "source": [
    "#### Code"
   ]
  },
  {
   "cell_type": "code",
   "execution_count": null,
   "id": "b3bea471",
   "metadata": {},
   "outputs": [],
   "source": [
    "# Check unique values.\n",
    "\n",
    "archive_clean[\"rating_numerator\"].value_counts()"
   ]
  },
  {
   "cell_type": "code",
   "execution_count": null,
   "id": "17567548",
   "metadata": {},
   "outputs": [],
   "source": []
  },
  {
   "cell_type": "code",
   "execution_count": null,
   "id": "eac7c1af",
   "metadata": {},
   "outputs": [],
   "source": [
    "# List of outliers data.\n",
    "\n",
    "outliers = [27, 75, 1776, 26, 420]"
   ]
  },
  {
   "cell_type": "code",
   "execution_count": null,
   "id": "b366a3e1",
   "metadata": {},
   "outputs": [],
   "source": [
    "# for loop to remove all outlier data from the dataframe.\n",
    "\n",
    "for outlier in outliers:\n",
    "    archive_clean = archive_clean[archive_clean[\"rating_numerator\"] !=  outlier]\n"
   ]
  },
  {
   "cell_type": "markdown",
   "id": "d52a4105",
   "metadata": {},
   "source": [
    "#### Test"
   ]
  },
  {
   "cell_type": "code",
   "execution_count": null,
   "id": "2b6b443f",
   "metadata": {
    "scrolled": true
   },
   "outputs": [],
   "source": [
    "# Check unique values to confirm outliers have been removed.\n",
    "\n",
    "archive_clean[\"rating_numerator\"].value_counts()"
   ]
  },
  {
   "cell_type": "code",
   "execution_count": null,
   "id": "d0f062df",
   "metadata": {
    "scrolled": true
   },
   "outputs": [],
   "source": [
    "# Check data information to confirm change.\n",
    "\n",
    "archive_clean.info()"
   ]
  },
  {
   "cell_type": "code",
   "execution_count": null,
   "id": "f849c320",
   "metadata": {},
   "outputs": [],
   "source": [
    "\n",
    "    "
   ]
  },
  {
   "cell_type": "markdown",
   "id": "4bde1663",
   "metadata": {},
   "source": [
    "### Note:\n",
    "Check the data information for all three datasets to see the columns that will not be useful for my anlysis. This columns will be dropped."
   ]
  },
  {
   "cell_type": "code",
   "execution_count": null,
   "id": "ce15702e",
   "metadata": {
    "scrolled": false
   },
   "outputs": [],
   "source": [
    "image_clean.info()"
   ]
  },
  {
   "cell_type": "code",
   "execution_count": null,
   "id": "2805c8ea",
   "metadata": {
    "scrolled": true
   },
   "outputs": [],
   "source": [
    "tweet_clean.info()"
   ]
  },
  {
   "cell_type": "code",
   "execution_count": null,
   "id": "5d421937",
   "metadata": {},
   "outputs": [],
   "source": [
    "archive_clean.info()"
   ]
  },
  {
   "cell_type": "markdown",
   "id": "5c250b2d",
   "metadata": {},
   "source": [
    "### Drop columns not useful for analysis in archive datasets."
   ]
  },
  {
   "cell_type": "markdown",
   "id": "35e4a746",
   "metadata": {},
   "source": [
    "#### Define\n",
    "Drop the following columns:\n",
    "\n",
    "- in_reply_to_status_id\n",
    "- in_reply_to_user_id\n",
    "- text \n",
    "- retweeted_status_id\n",
    "- retweeted_status_user_id\n",
    "- retweeted_status_id \n",
    "- retweeted_status_user_id\n",
    "- retweeted_status_timestamp\n",
    "- expanded_urls\n",
    "- rating_denominator"
   ]
  },
  {
   "cell_type": "markdown",
   "id": "91969237",
   "metadata": {},
   "source": [
    "#### Code"
   ]
  },
  {
   "cell_type": "code",
   "execution_count": null,
   "id": "94f1e49e",
   "metadata": {
    "scrolled": true
   },
   "outputs": [],
   "source": [
    "# Print column names to know which columns to drop.\n",
    "\n",
    "archive_clean.columns"
   ]
  },
  {
   "cell_type": "code",
   "execution_count": null,
   "id": "b9ec693f",
   "metadata": {
    "scrolled": true
   },
   "outputs": [],
   "source": [
    "# Drop columns not useful for analysis in archive datasets. \n",
    "\n",
    "archive_clean.drop([\"in_reply_to_status_id\", \"in_reply_to_user_id\", \"text\", \n",
    "                    \"retweeted_status_id\", \"retweeted_status_user_id\", \"retweeted_status_id\", \n",
    "                    \"retweeted_status_user_id\", \"retweeted_status_timestamp\", \n",
    "                    \"expanded_urls\", \"rating_denominator\"], axis=1, inplace=True)"
   ]
  },
  {
   "cell_type": "markdown",
   "id": "d0cca60e",
   "metadata": {},
   "source": [
    "#### Test"
   ]
  },
  {
   "cell_type": "code",
   "execution_count": null,
   "id": "8bc1ddc7",
   "metadata": {
    "scrolled": false
   },
   "outputs": [],
   "source": [
    "# Print first five rows to confirm change.\n",
    "archive_clean.head()"
   ]
  },
  {
   "cell_type": "code",
   "execution_count": null,
   "id": "883d2600",
   "metadata": {},
   "outputs": [],
   "source": [
    "# Check data information to confirm change.\n",
    "archive_clean.info()"
   ]
  },
  {
   "cell_type": "code",
   "execution_count": null,
   "id": "9a965046",
   "metadata": {},
   "outputs": [],
   "source": []
  },
  {
   "cell_type": "markdown",
   "id": "97174d2c",
   "metadata": {},
   "source": [
    "### Rename Columns in archive datasets."
   ]
  },
  {
   "cell_type": "markdown",
   "id": "a0b5c9e1",
   "metadata": {},
   "source": [
    "#### Define\n",
    "Rename Columns in archive datasets to relatable names."
   ]
  },
  {
   "cell_type": "markdown",
   "id": "7214fe89",
   "metadata": {},
   "source": [
    "#### Code"
   ]
  },
  {
   "cell_type": "code",
   "execution_count": null,
   "id": "e14a8363",
   "metadata": {
    "scrolled": true
   },
   "outputs": [],
   "source": [
    "# Rename Columns in archive datasets to relatable names.\n",
    "\n",
    "archive_clean.rename(columns={\"rating_numerator\" : \"rating(over_10)\", \"timestamp\":\"date\",\"dog_stages\":\"dog_stage\"}, inplace=True)"
   ]
  },
  {
   "cell_type": "markdown",
   "id": "aea0845e",
   "metadata": {},
   "source": [
    "#### Test"
   ]
  },
  {
   "cell_type": "code",
   "execution_count": null,
   "id": "4f6a6bfe",
   "metadata": {},
   "outputs": [],
   "source": [
    "# Print first five rows to confirm change in column names.\n",
    "\n",
    "archive_clean.head()"
   ]
  },
  {
   "cell_type": "markdown",
   "id": "8189a636",
   "metadata": {},
   "source": [
    "### Dropping other columns not useful for my analysis."
   ]
  },
  {
   "cell_type": "markdown",
   "id": "732f912e",
   "metadata": {},
   "source": [
    "#### Define\n",
    "Drop the following columns in  image dataset\n",
    "\n",
    "- jpg_url\n",
    "- img_num\n",
    "- p1\n",
    "- p1_conf\n",
    "- p1_dog\n",
    "- p2\n",
    "- p2_conf\t\n",
    "- p2_dog\t\n",
    "- p3\t\n",
    "- p3_conf\t\n",
    "- p3_dog"
   ]
  },
  {
   "cell_type": "markdown",
   "id": "92089e78",
   "metadata": {},
   "source": [
    "#### Code"
   ]
  },
  {
   "cell_type": "code",
   "execution_count": null,
   "id": "3e45a732",
   "metadata": {
    "scrolled": true
   },
   "outputs": [],
   "source": [
    "# Check data information for column names.\n",
    "image_clean.info()"
   ]
  },
  {
   "cell_type": "code",
   "execution_count": null,
   "id": "395517fd",
   "metadata": {
    "scrolled": false
   },
   "outputs": [],
   "source": [
    "# Drop the unecessary columns in image dataset.\n",
    "\n",
    "image_clean.drop(image_clean[image_clean.columns[1:12]], axis=1, inplace=True)"
   ]
  },
  {
   "cell_type": "markdown",
   "id": "3a1b8fd8",
   "metadata": {},
   "source": [
    "#### Test"
   ]
  },
  {
   "cell_type": "code",
   "execution_count": null,
   "id": "cf1a62a3",
   "metadata": {
    "scrolled": false
   },
   "outputs": [],
   "source": [
    "# Print first five rows to confirm change.\n",
    "image_clean.head(1)"
   ]
  },
  {
   "cell_type": "code",
   "execution_count": null,
   "id": "d0a13e18",
   "metadata": {
    "scrolled": false
   },
   "outputs": [],
   "source": [
    "# Check data information to confirm change.\n",
    "\n",
    "image_clean.info()"
   ]
  },
  {
   "cell_type": "code",
   "execution_count": null,
   "id": "275e8484",
   "metadata": {},
   "outputs": [],
   "source": []
  },
  {
   "cell_type": "markdown",
   "id": "d2293493",
   "metadata": {},
   "source": [
    "### Rename retweet_count and favourite_count to better name."
   ]
  },
  {
   "cell_type": "markdown",
   "id": "0968e2a6",
   "metadata": {},
   "source": [
    "#### Define\n",
    "- Rename retweet_count to total_retweets\n",
    "- Rename favourite_count to total_likes"
   ]
  },
  {
   "cell_type": "markdown",
   "id": "c9788da9",
   "metadata": {},
   "source": [
    "#### Code"
   ]
  },
  {
   "cell_type": "code",
   "execution_count": null,
   "id": "7ab442ae",
   "metadata": {},
   "outputs": [],
   "source": [
    "# Rename columns.\n",
    "\n",
    "tweet_clean.rename(columns={\"retweet_count\": \"total_retweets\", \"favorite_count\": \"total_likes\"}, inplace=True)"
   ]
  },
  {
   "cell_type": "markdown",
   "id": "7e7a0955",
   "metadata": {},
   "source": [
    "#### test"
   ]
  },
  {
   "cell_type": "code",
   "execution_count": null,
   "id": "52ae6b4d",
   "metadata": {
    "scrolled": false
   },
   "outputs": [],
   "source": [
    "# Print one row to confirm new column names.\n",
    "tweet_clean.head(1)"
   ]
  },
  {
   "cell_type": "code",
   "execution_count": null,
   "id": "ec754ffd",
   "metadata": {},
   "outputs": [],
   "source": []
  },
  {
   "cell_type": "markdown",
   "id": "cf19aba0",
   "metadata": {},
   "source": [
    "### Merging dataframe"
   ]
  },
  {
   "cell_type": "markdown",
   "id": "3a9a9eeb",
   "metadata": {},
   "source": [
    "#### Define\n",
    "Merge all the following dataset:\n",
    "- image_clean\n",
    "- archive_clean\n",
    "- tweet_clean"
   ]
  },
  {
   "cell_type": "markdown",
   "id": "8ff39444",
   "metadata": {},
   "source": [
    "#### Code"
   ]
  },
  {
   "cell_type": "markdown",
   "id": "eb23a9d3",
   "metadata": {},
   "source": [
    "#### Note:\n",
    "The image_clean data will be the standard for joining the other two datasets.\n",
    "This is because the records of the image data have been filtered for only dog records previously. \n",
    "The prediction data which the dataset creator collected from machine learning algorithm  were used.\n",
    "\n",
    "\n",
    "I should left join image_clean on other datasets. However, I have decided to use inner join instead to avoid null values. This is because left join will produce null values for other image_clean records that are not present in the other datasets."
   ]
  },
  {
   "cell_type": "code",
   "execution_count": null,
   "id": "f044b090",
   "metadata": {
    "scrolled": true
   },
   "outputs": [],
   "source": [
    "# Merge image_clean and archive_clean with inner join.\n",
    "\n",
    "image_archive = pd.merge(image_clean, archive_clean, on=\"tweet_id\", how=\"inner\")"
   ]
  },
  {
   "cell_type": "code",
   "execution_count": null,
   "id": "20767463",
   "metadata": {},
   "outputs": [],
   "source": [
    "# Merge the resulting dataframe of preceeding cell with tweet_clean dataframe with an inner join.\n",
    "\n",
    "dog = pd.merge(image_archive, tweet_clean, left_on=\"tweet_id\", right_on=\"id\", how=\"inner\")"
   ]
  },
  {
   "cell_type": "markdown",
   "id": "c9ae22c0",
   "metadata": {},
   "source": [
    "#### Test"
   ]
  },
  {
   "cell_type": "code",
   "execution_count": null,
   "id": "66e82833",
   "metadata": {
    "scrolled": false
   },
   "outputs": [],
   "source": [
    "# Check data information to confirm change.\n",
    "\n",
    "image_archive.info()"
   ]
  },
  {
   "cell_type": "code",
   "execution_count": null,
   "id": "b8b7e73d",
   "metadata": {
    "scrolled": true
   },
   "outputs": [],
   "source": [
    "# Print first five rows.\n",
    "\n",
    "image_archive.head()"
   ]
  },
  {
   "cell_type": "code",
   "execution_count": null,
   "id": "2cda524f",
   "metadata": {
    "scrolled": false
   },
   "outputs": [],
   "source": [
    "# Check data information to confirm the new dataframe.\n",
    "\n",
    "dog.info()"
   ]
  },
  {
   "cell_type": "code",
   "execution_count": null,
   "id": "fdaf46cc",
   "metadata": {},
   "outputs": [],
   "source": [
    "# Print first five rows of the new dataframe.\n",
    "\n",
    "dog.head()"
   ]
  },
  {
   "cell_type": "code",
   "execution_count": null,
   "id": "6cd3c1d5",
   "metadata": {},
   "outputs": [],
   "source": []
  },
  {
   "cell_type": "markdown",
   "id": "602f887f",
   "metadata": {},
   "source": [
    "### Note: After I finished merging and started data exploration, I found that there are some columns still present in the dataset  which will not be useful for my analysis. I will further be doing some cleaning and dropping these columns."
   ]
  },
  {
   "cell_type": "markdown",
   "id": "00c87808",
   "metadata": {},
   "source": [
    "### Drop id column from the new dataframe."
   ]
  },
  {
   "cell_type": "markdown",
   "id": "866224fa",
   "metadata": {},
   "source": [
    "#### Define\n",
    "Drop id column from the new dataframe."
   ]
  },
  {
   "cell_type": "markdown",
   "id": "38904ce2",
   "metadata": {},
   "source": [
    "#### Code"
   ]
  },
  {
   "cell_type": "code",
   "execution_count": null,
   "id": "bb1faf8d",
   "metadata": {},
   "outputs": [],
   "source": [
    "# Drop id column from the new dataframe.\n",
    "\n",
    "dog.drop(columns=\"id\",inplace=True)"
   ]
  },
  {
   "cell_type": "markdown",
   "id": "8f9e9df0",
   "metadata": {},
   "source": [
    "#### Test"
   ]
  },
  {
   "cell_type": "code",
   "execution_count": null,
   "id": "fa3be5cb",
   "metadata": {
    "scrolled": true
   },
   "outputs": [],
   "source": [
    "# Check data information to confirm change.\n",
    "dog.info()"
   ]
  },
  {
   "cell_type": "markdown",
   "id": "c477fe0c",
   "metadata": {},
   "source": [
    "### Columns should be re-ordered according to data types for easy access."
   ]
  },
  {
   "cell_type": "markdown",
   "id": "697f40ce",
   "metadata": {},
   "source": [
    "#### Define\n",
    "Reorder columns"
   ]
  },
  {
   "cell_type": "markdown",
   "id": "8ee5996c",
   "metadata": {},
   "source": [
    "#### Code"
   ]
  },
  {
   "cell_type": "code",
   "execution_count": null,
   "id": "fcae5071",
   "metadata": {},
   "outputs": [],
   "source": [
    "# Reorder columns for easy access.\n",
    "\n",
    "dog = dog[[\"tweet_id\", \"rating(over_10)\", \"total_likes\", \"total_retweets\", \"prediction\", \"dog_breed\", \"name\", \"dog_stage\", \"source\", \"date\" ]]"
   ]
  },
  {
   "cell_type": "markdown",
   "id": "f98f9ec3",
   "metadata": {},
   "source": [
    "#### Test"
   ]
  },
  {
   "cell_type": "code",
   "execution_count": null,
   "id": "513de81d",
   "metadata": {
    "scrolled": false
   },
   "outputs": [],
   "source": [
    "# Print first two rows to confirm change.\n",
    "dog.head(2)"
   ]
  },
  {
   "cell_type": "code",
   "execution_count": null,
   "id": "dbfb1751",
   "metadata": {},
   "outputs": [],
   "source": []
  },
  {
   "cell_type": "markdown",
   "id": "153b1b9b",
   "metadata": {},
   "source": [
    "### It appears some of the columns above will not be useful for my analyis. I will drop them. This columns include the following:\n",
    "\n",
    "- prediction\n",
    "- name\n",
    "- dog_stage\n",
    "- source\n",
    "- date\n",
    "\n",
    "####  Why am I be dropping the above columns?\n",
    "\n",
    "##### prediction:\n",
    "The prediction data was used to determine the breeds of dogs. Its result also distinguish dog tweet data from non-dog tweet data. Since, I have used this information to get the needed data from the datasets, I will be dropping it because it's no more useful for my analysis.\n",
    "\n",
    "##### name:\n",
    "The name column contains some incorrect data such as \"a\", \"an\",\"the\", \"None\" and other values. Since, these data would not give accurate information about the names of the dog, I will be dropping it.\n",
    "\n",
    "##### dog_stage:\n",
    "There are too many missing data in the dog_stage column. Hence, I will be removing from the dataset.\n",
    "\n",
    "##### source:\n",
    "This will be irrelevant for my analysis. Most of the tweets are tweeted with iPhone. I'm going to drop it.\n",
    "\n",
    "#### date:\n",
    "I will not be using the date data for my analysis. So, I will  drop it.\n",
    "\n"
   ]
  },
  {
   "cell_type": "markdown",
   "id": "224fb09e",
   "metadata": {},
   "source": [
    "#### Define\n",
    "Drop the following columns:\n",
    "- prediction\n",
    "- name\n",
    "- dog_stage\n",
    "- source\n",
    "- date"
   ]
  },
  {
   "cell_type": "markdown",
   "id": "087293c1",
   "metadata": {},
   "source": [
    "#### Code"
   ]
  },
  {
   "cell_type": "code",
   "execution_count": null,
   "id": "693f4435",
   "metadata": {},
   "outputs": [],
   "source": [
    "# Drop all the columns listed in the Define cell.\n",
    "\n",
    "dog.drop([\"prediction\", \"name\", \"dog_stage\", \"source\", \"date\"], axis=1, inplace=True)"
   ]
  },
  {
   "cell_type": "markdown",
   "id": "2d52e42e",
   "metadata": {},
   "source": [
    "#### Test"
   ]
  },
  {
   "cell_type": "code",
   "execution_count": null,
   "id": "6be45156",
   "metadata": {
    "scrolled": false
   },
   "outputs": [],
   "source": [
    "# Check data information to confirm change.\n",
    "\n",
    "dog.info()"
   ]
  },
  {
   "cell_type": "code",
   "execution_count": null,
   "id": "ecb673d4",
   "metadata": {
    "scrolled": true
   },
   "outputs": [],
   "source": [
    "# Print the first five rows to confirm change.\n",
    "\n",
    "dog.head()"
   ]
  },
  {
   "cell_type": "code",
   "execution_count": null,
   "id": "08e35c34",
   "metadata": {},
   "outputs": [],
   "source": []
  },
  {
   "cell_type": "code",
   "execution_count": null,
   "id": "9e2036e1",
   "metadata": {},
   "outputs": [],
   "source": []
  },
  {
   "cell_type": "markdown",
   "id": "ddec0f6e",
   "metadata": {},
   "source": [
    "## Storing Data"
   ]
  },
  {
   "cell_type": "code",
   "execution_count": null,
   "id": "34900a93",
   "metadata": {},
   "outputs": [],
   "source": [
    "# Store the final complete data.\n",
    "dog.to_csv(\"twitter_archive_master.csv\")"
   ]
  },
  {
   "cell_type": "markdown",
   "id": "8d6c8ca5",
   "metadata": {},
   "source": [
    "## Analyzing and Visualizing Data"
   ]
  },
  {
   "cell_type": "markdown",
   "id": "a4cbe71c",
   "metadata": {},
   "source": [
    "### Note:\n",
    "- Good dogs in this exploration are dogs that are rated 10 and above.\n",
    "\n",
    "- Bad dogs are dogs that are given ratings below 10.\n",
    "\n",
    "This idea was taken from the dog rating creator(@WeRateDogs) when he replied Brant. Brant had frowned at why the poster rated   dogs over 10. His reply was that such dogs are good dogs."
   ]
  },
  {
   "cell_type": "markdown",
   "id": "df594a12",
   "metadata": {},
   "source": [
    "### Research Question 1\n",
    "#### Did increase in likes increase the number of retweets of dog lovers?"
   ]
  },
  {
   "cell_type": "markdown",
   "id": "aea40dae",
   "metadata": {},
   "source": [
    "#### Note:\n",
    "I will answer this question by plotting the total number of likes and retweets on a scatter plot to see if there is a positive correlaton between them."
   ]
  },
  {
   "cell_type": "code",
   "execution_count": null,
   "id": "ba31fb65",
   "metadata": {
    "scrolled": false
   },
   "outputs": [],
   "source": [
    "# Print fist five row to view data.\n",
    "dog.head()"
   ]
  },
  {
   "cell_type": "code",
   "execution_count": null,
   "id": "75c06ccf",
   "metadata": {
    "scrolled": false
   },
   "outputs": [],
   "source": [
    "# Scatter plot showing  the correlation of total likes and total retweets.\n",
    "\n",
    "sns.set_style(\"darkgrid\")\n",
    "plt.figure(figsize=(9,8))\n",
    "plt.scatter(x= dog[\"total_likes\"], y=dog[\"total_retweets\"])\n",
    "plt.title(\"Total likes and retweets of dog lovers\", fontsize= 14)\n",
    "plt.xlabel(\"Total number of likes\", fontsize= 13)\n",
    "plt.ylabel(\"Total number of Retweets\", fontsize= 13)\n",
    "plt.show()"
   ]
  },
  {
   "cell_type": "markdown",
   "id": "dfecbbdd",
   "metadata": {},
   "source": [
    "### Insight:\n",
    "\n",
    "I found that the there is a positive correlation between the total number of likes and retweets of dog tweets among dog lovers.\n",
    "\n",
    "This means that dog lovers tend to retweet the dog tweets that they liked more.\n",
    "They are more likely to retweet a dog tweet when they like it."
   ]
  },
  {
   "cell_type": "markdown",
   "id": "6291dd33",
   "metadata": {},
   "source": [
    "### Research Question 2\n",
    "\n",
    "####  Which group of dogs did dog lovers retweeted more?\n",
    "\n",
    "- #### Good or bad dogs?\n"
   ]
  },
  {
   "cell_type": "markdown",
   "id": "9a347028",
   "metadata": {},
   "source": [
    "#### Note:\n",
    "I will answer this question by plotting the dog ratings and total number of retweets per dog on a scatter plot to see if there is a positive correlaton between them."
   ]
  },
  {
   "cell_type": "code",
   "execution_count": null,
   "id": "9851daec",
   "metadata": {
    "scrolled": true
   },
   "outputs": [],
   "source": [
    "# Scatter plot showing  the correlation of the ratings and total retweets.\n",
    "\n",
    "plt.figure(figsize=(8,7))\n",
    "plt.scatter(x= dog[\"rating(over_10)\"], y=dog[\"total_retweets\"])\n",
    "plt.title(\"Dog ratings and their retweets by dog lovers\", fontsize= 14)\n",
    "plt.xlabel(\"Dog Ratings\", fontsize= 13)\n",
    "plt.ylabel(\"Total number of retweets\", fontsize= 13)\n",
    "plt.show()"
   ]
  },
  {
   "cell_type": "markdown",
   "id": "79d6fcb6",
   "metadata": {},
   "source": [
    "### Insight:\n",
    "\n",
    "From the scatter plot, I found that the there is a positive correlation between the dog ratings and total number of retweets among dog lovers.\n",
    "\n",
    "This means that dog lovers tend to retweet the tweets about good dogs more than they did with bad dogs.\n",
    "This confirm that the dog poster rating align with dog lovers.\n",
    "\n",
    "It can also be deduced from the above visualization that the higher the dog rating, the more the retweets."
   ]
  },
  {
   "cell_type": "code",
   "execution_count": null,
   "id": "680e2cb1",
   "metadata": {},
   "outputs": [],
   "source": []
  },
  {
   "cell_type": "markdown",
   "id": "fbd68e01",
   "metadata": {},
   "source": [
    "### Research Question 3\n",
    "####  Which group of dogs did dog lovers liked more?\n",
    "\n",
    "- #### Good dogs or bad dogs?"
   ]
  },
  {
   "cell_type": "markdown",
   "id": "1bbb53ee",
   "metadata": {},
   "source": [
    "#### Note:\n",
    "I will answer this question by plotting the ratings of each dog and their total number of likes on a scatter plot to see if there is a positive correlaton between them."
   ]
  },
  {
   "cell_type": "code",
   "execution_count": null,
   "id": "b9a4cf01",
   "metadata": {
    "scrolled": true
   },
   "outputs": [],
   "source": [
    "# Scatter plot showing  the correlation of the dog likes and total retweets.\n",
    "\n",
    "plt.figure(figsize=(8,7))\n",
    "plt.scatter(x= dog[\"rating(over_10)\"], y=dog[\"total_likes\"])\n",
    "plt.title(\"How dog lovers liked the dogs based on their ratings.\", fontsize= 14)\n",
    "plt.xlabel(\"Dog Ratings\", fontsize= 13)\n",
    "plt.ylabel(\"Total number of Likes\", fontsize= 13)\n",
    "plt.show()"
   ]
  },
  {
   "cell_type": "markdown",
   "id": "efe35219",
   "metadata": {},
   "source": [
    "### Insight:\n",
    "\n",
    "From the scatter plot, I found that the there is a positive correlation between the dog ratings and total number of likes among dog lovers.\n",
    "The higher the dog rating, the higher the number of likes.\n",
    "\n",
    "The dog likes went to the highest levels with dogs with ratings of 10 and above(good dogs).\n",
    "In fact, the likes went as high as over 120,000 likes for a few dogs with 13 over 10 ratings.\n",
    "\n",
    "This means that dog lovers tend to like the tweets about good dogs more than they did with bad dogs.\n",
    "This also confirms that the dog poster ratings align with dog lovers."
   ]
  },
  {
   "cell_type": "markdown",
   "id": "9fdac28a",
   "metadata": {},
   "source": []
  },
  {
   "cell_type": "markdown",
   "id": "4d154977",
   "metadata": {},
   "source": [
    "### Research Question 4\n",
    "### 4.\tWhat is the average rating of both groups of dogs?\n"
   ]
  },
  {
   "cell_type": "markdown",
   "id": "699cd7cb",
   "metadata": {},
   "source": [
    "### What is the average rating for good  dogs?"
   ]
  },
  {
   "cell_type": "markdown",
   "id": "e9b467a2",
   "metadata": {},
   "source": [
    "### Note:\n",
    "- I will first take the mask of good and bad dogs. \n",
    "- Then, I will find the average ratings of both dog groups."
   ]
  },
  {
   "cell_type": "code",
   "execution_count": null,
   "id": "01cee556",
   "metadata": {},
   "outputs": [],
   "source": [
    "# dataframe for good and bad dogs.\n",
    "good_dog = dog[dog[\"rating(over_10)\"] >= 10]\n",
    "bad_dog = dog[dog[\"rating(over_10)\"] < 10]"
   ]
  },
  {
   "cell_type": "code",
   "execution_count": null,
   "id": "89154a40",
   "metadata": {
    "scrolled": true
   },
   "outputs": [],
   "source": [
    "# Print first five rows\n",
    "good_dog.head()"
   ]
  },
  {
   "cell_type": "code",
   "execution_count": null,
   "id": "af8b5a47",
   "metadata": {
    "scrolled": true
   },
   "outputs": [],
   "source": [
    "# Print first five rows\n",
    "bad_dog.head()"
   ]
  },
  {
   "cell_type": "code",
   "execution_count": null,
   "id": "075d799b",
   "metadata": {},
   "outputs": [],
   "source": []
  },
  {
   "cell_type": "code",
   "execution_count": null,
   "id": "3933fa3f",
   "metadata": {},
   "outputs": [],
   "source": []
  },
  {
   "cell_type": "markdown",
   "id": "0b6ec7ba",
   "metadata": {},
   "source": [
    "#### Average rating of good dogs.\n"
   ]
  },
  {
   "cell_type": "code",
   "execution_count": null,
   "id": "b4df4173",
   "metadata": {
    "scrolled": true
   },
   "outputs": [],
   "source": [
    "# Find the average ratings of good dogs.\n",
    "good_dog_rating = np.round(good_dog[\"rating(over_10)\"].mean())"
   ]
  },
  {
   "cell_type": "code",
   "execution_count": null,
   "id": "e156433b",
   "metadata": {},
   "outputs": [],
   "source": [
    "# show result\n",
    "good_dog_rating"
   ]
  },
  {
   "cell_type": "markdown",
   "id": "ad1bc05a",
   "metadata": {},
   "source": [
    "####  Average rating for bad dogs"
   ]
  },
  {
   "cell_type": "code",
   "execution_count": null,
   "id": "952a0856",
   "metadata": {},
   "outputs": [],
   "source": []
  },
  {
   "cell_type": "code",
   "execution_count": null,
   "id": "dce206ac",
   "metadata": {
    "scrolled": false
   },
   "outputs": [],
   "source": [
    "# Average rating for bad dogs\n",
    "bad_dog_rating  = np.round(bad_dog[\"rating(over_10)\"].mean())"
   ]
  },
  {
   "cell_type": "code",
   "execution_count": null,
   "id": "2bb4d170",
   "metadata": {
    "scrolled": true
   },
   "outputs": [],
   "source": [
    "# show result\n",
    "\n",
    "bad_dog_rating"
   ]
  },
  {
   "cell_type": "markdown",
   "id": "b4321cd5",
   "metadata": {},
   "source": [
    "#### Plot the average ratings of both groups on a bar chart."
   ]
  },
  {
   "cell_type": "code",
   "execution_count": null,
   "id": "02caf246",
   "metadata": {},
   "outputs": [],
   "source": [
    "# Functions to add value labels to a bar char.\n",
    "\n",
    "def value_label(x,y):\n",
    "    for i in x:\n",
    "        plt.text(i, y[i]+0.2, y[i], ha=\"center\")\n",
    "        \n",
    "\n",
    "# Please, note that this function will be called multiple times to add value label to bar charts."
   ]
  },
  {
   "cell_type": "code",
   "execution_count": null,
   "id": "1c28d8c0",
   "metadata": {},
   "outputs": [],
   "source": [
    "# tick value for the x-axis of the bar chart\n",
    "\n",
    "base = np.arange(2)\n",
    "\n",
    "# labels of x-ticks of the bar chart\n",
    "tick = [\"Good dogs\", \"Bad dogs\"]"
   ]
  },
  {
   "cell_type": "code",
   "execution_count": null,
   "id": "634dbfa0",
   "metadata": {},
   "outputs": [],
   "source": [
    "# tick value for the y-axis of the bar chart\n",
    "\n",
    "avg_rating = [good_dog_rating, bad_dog_rating]"
   ]
  },
  {
   "cell_type": "code",
   "execution_count": null,
   "id": "19696dbe",
   "metadata": {},
   "outputs": [],
   "source": []
  },
  {
   "cell_type": "code",
   "execution_count": null,
   "id": "79caad4f",
   "metadata": {
    "scrolled": false
   },
   "outputs": [],
   "source": [
    "# Bar chart showing the average ratings of both good and bad dogs.\n",
    "\n",
    "plt.figure(figsize=(8,7))\n",
    "plt.bar(base, avg_rating, width=0.5)\n",
    "plt.title(\"The average rating of good and bad dogs\", fontsize= 14)\n",
    "plt.xlabel(\"Dogs\", fontsize= 13)\n",
    "plt.ylabel(\"Average rating\", fontsize= 13)\n",
    "plt.xticks(base, tick)\n",
    "\n",
    "# Call function to add value labels to chart.\n",
    "value_label(base, avg_rating)\n",
    "\n",
    "plt.show()\n"
   ]
  },
  {
   "cell_type": "markdown",
   "id": "37d470ac",
   "metadata": {},
   "source": [
    "### Insight:\n",
    "The Good dogs have an average rating of 11 while bad dogs have an average rating of 8.\n",
    "\n",
    "Good dogs are really good because they have ratings above 10.\n",
    "\n",
    "Bad dogs are bad because they have an average rating below 10."
   ]
  },
  {
   "cell_type": "markdown",
   "id": "18bc331b",
   "metadata": {},
   "source": [
    "### Research Question 5\n",
    "#### Which  group of dogs has more likes among  dog lovers?\n",
    "-  #### Good or bad dogs?"
   ]
  },
  {
   "cell_type": "markdown",
   "id": "896239d3",
   "metadata": {},
   "source": [
    "#### Average likes for good dog"
   ]
  },
  {
   "cell_type": "code",
   "execution_count": null,
   "id": "289c00b1",
   "metadata": {
    "scrolled": true
   },
   "outputs": [],
   "source": [
    "# Average likes for good dogs.\n",
    "\n",
    "good_dog_likes = np.round(good_dog[\"total_likes\"].mean())"
   ]
  },
  {
   "cell_type": "code",
   "execution_count": null,
   "id": "4d19d18e",
   "metadata": {},
   "outputs": [],
   "source": [
    "# show result\n",
    "good_dog_likes"
   ]
  },
  {
   "cell_type": "markdown",
   "id": "1d482bda",
   "metadata": {},
   "source": [
    "#### Average likes for bad dogs"
   ]
  },
  {
   "cell_type": "code",
   "execution_count": null,
   "id": "9b7cfecb",
   "metadata": {
    "scrolled": true
   },
   "outputs": [],
   "source": [
    "# Average likes for bad dogs.\n",
    "\n",
    "bad_dog_likes = np.round(bad_dog[\"total_likes\"].mean())"
   ]
  },
  {
   "cell_type": "code",
   "execution_count": null,
   "id": "1c092231",
   "metadata": {
    "scrolled": true
   },
   "outputs": [],
   "source": [
    "bad_dog_likes"
   ]
  },
  {
   "cell_type": "markdown",
   "id": "77a10f26",
   "metadata": {},
   "source": [
    "#### Note:\n",
    "I will plot the result on a bar chart in the next research question section."
   ]
  },
  {
   "cell_type": "code",
   "execution_count": null,
   "id": "8a54f2ec",
   "metadata": {},
   "outputs": [],
   "source": [
    "# tick values of y axis.\n",
    "avg_likes = [good_dog_likes, bad_dog_likes]"
   ]
  },
  {
   "cell_type": "markdown",
   "id": "6449890d",
   "metadata": {},
   "source": [
    "## Research Question 6\n",
    "### Which dog group did dog lovers retweeted more? \n",
    "-  #### Good or bad dogs?\n"
   ]
  },
  {
   "cell_type": "markdown",
   "id": "5861ffcb",
   "metadata": {},
   "source": [
    "#### Note:\n",
    "I will answer the question by finding the average retweet for good and bad dogs. I will then show the result on a bar chart."
   ]
  },
  {
   "cell_type": "markdown",
   "id": "9109c6d5",
   "metadata": {},
   "source": [
    "#### Average retweet for good dogs."
   ]
  },
  {
   "cell_type": "code",
   "execution_count": null,
   "id": "1368eb1d",
   "metadata": {
    "scrolled": false
   },
   "outputs": [],
   "source": [
    "# Average retweet for good dogs.\n",
    "\n",
    "good_dog_retweets = np.round(good_dog[\"total_retweets\"].mean())"
   ]
  },
  {
   "cell_type": "code",
   "execution_count": null,
   "id": "26e177f2",
   "metadata": {},
   "outputs": [],
   "source": [
    "# Show result\n",
    "good_dog_retweets"
   ]
  },
  {
   "cell_type": "markdown",
   "id": "e28abc5f",
   "metadata": {},
   "source": [
    "#### Average retweet for bad breeds"
   ]
  },
  {
   "cell_type": "code",
   "execution_count": null,
   "id": "9b1559db",
   "metadata": {
    "scrolled": true
   },
   "outputs": [],
   "source": [
    "# Average retweet for bad dogs.\n",
    "\n",
    "bad_dog_retweets = np.round(bad_dog[\"total_retweets\"].mean())"
   ]
  },
  {
   "cell_type": "code",
   "execution_count": null,
   "id": "0540d097",
   "metadata": {
    "scrolled": true
   },
   "outputs": [],
   "source": [
    "# Show result\n",
    "\n",
    "bad_dog_retweets"
   ]
  },
  {
   "cell_type": "markdown",
   "id": "a9ee4810",
   "metadata": {},
   "source": [
    "#### Plot the average likes and retweets of good and bad dogs on a bar chart."
   ]
  },
  {
   "cell_type": "code",
   "execution_count": null,
   "id": "3d6f1152",
   "metadata": {},
   "outputs": [],
   "source": [
    "\n",
    "avg_retweets = [good_dog_retweets, bad_dog_retweets]"
   ]
  },
  {
   "cell_type": "code",
   "execution_count": null,
   "id": "da49309a",
   "metadata": {},
   "outputs": [],
   "source": [
    "width=0.2"
   ]
  },
  {
   "cell_type": "code",
   "execution_count": null,
   "id": "4f29ecdb",
   "metadata": {
    "scrolled": true
   },
   "outputs": [],
   "source": [
    "# Bar chart showing the average retweets of good and bad dogs among dog lovers.\n",
    "\n",
    "plt.figure(figsize=(7,6))\n",
    "avg_retweets_bar = plt.bar(base-width/2, avg_retweets, width, label=\"Average Retweet\")\n",
    "avg_likes_bar = plt.bar(base+width/2, avg_likes, width, label=\"Average Likes\")\n",
    "\n",
    "# Add value label to the bar chart.\n",
    "plt.bar_label(avg_retweets_bar, padding=2)\n",
    "plt.bar_label(avg_likes_bar, padding=2)\n",
    "\n",
    "\n",
    "plt.title(\"The average Likes and Retweet of both groups of dogs among dog lovers\", fontsize= 14)\n",
    "plt.xlabel(\"Dogs\", fontsize= 13)\n",
    "plt.ylabel(\"Average Like and  Retweet\", fontsize= 13)\n",
    "plt.xticks(base, tick)\n",
    "\n",
    "\n",
    "plt.legend()\n",
    "\n",
    "plt.show()\n",
    "\n"
   ]
  },
  {
   "cell_type": "markdown",
   "id": "54be5479",
   "metadata": {},
   "source": [
    "#### Insight 1:\n",
    "From the bar chart, dog lovers retweeted good dogs more than bad dogs.\n",
    "Good dogs have an average retweet of 3,195 while only 917 retweets for bad dogs. The difference is very clear. Dog lovers seem to agree with the opinion of the dog rater again.\n",
    "\n",
    "Rememeber, it's the dog poster that determines which dog is good and which is bad. He gives rating 10 and above for good dogs and rates dogs he considered bad 9 and below.\n",
    "\n",
    "#### Insight 2:\n",
    "\n",
    "It can also be deduced that dog lovers liked good dogs more than bad dogs.\n",
    "Good dogs have an average likes of 10,547 while 2767 likes for bad dogs. The difference is very clear. Dog lovers seem to agree with the opinion of the dog rater.\n",
    "\n",
    "Rememeber, it's the dog poster that determines which dog is good and which is bad. He gives rating 10 and above for good dogs and rates dogs he considered bad 9 and below."
   ]
  },
  {
   "cell_type": "code",
   "execution_count": null,
   "id": "38d143eb",
   "metadata": {
    "scrolled": true
   },
   "outputs": [],
   "source": []
  },
  {
   "cell_type": "markdown",
   "id": "1d278c51",
   "metadata": {},
   "source": [
    "## Research Question 7\n",
    "\n",
    "### What breed is the dog with the highest number of likes?\n",
    "- #### Are dogs of this breed generally good dogs?"
   ]
  },
  {
   "cell_type": "code",
   "execution_count": null,
   "id": "322a7332",
   "metadata": {},
   "outputs": [],
   "source": []
  },
  {
   "cell_type": "code",
   "execution_count": null,
   "id": "3d1c170f",
   "metadata": {
    "scrolled": true
   },
   "outputs": [],
   "source": [
    "# Record of dog breed with the highest number of likes.\n",
    "\n",
    "dog[dog[\"total_likes\"] == dog[\"total_likes\"].max()]"
   ]
  },
  {
   "cell_type": "markdown",
   "id": "c809daf8",
   "metadata": {},
   "source": [
    "#### Insight:\n",
    "Dog lovers liked Lakeland Terrier the most.\n",
    "Note that this record is only for dog lovers that hit the like button on Lakeland Terrier breed.\n",
    "132,810 people liked a dog posted with the tweet_id of 822872901745569793."
   ]
  },
  {
   "cell_type": "markdown",
   "id": "f70fd6fd",
   "metadata": {},
   "source": [
    "### Is the breed generally a good breed?"
   ]
  },
  {
   "cell_type": "code",
   "execution_count": null,
   "id": "6fd946a1",
   "metadata": {},
   "outputs": [],
   "source": [
    "# Records of dogs that belong to Lakeland Terrier breed.\n",
    "\n",
    "lakeland_retriever = dog[dog[\"dog_breed\"].str.contains(\"Lakeland Terrier\")] "
   ]
  },
  {
   "cell_type": "code",
   "execution_count": null,
   "id": "065afdc9",
   "metadata": {
    "scrolled": false
   },
   "outputs": [],
   "source": [
    "# Average rating of dogs that are of Lakeland Terrier breed.\n",
    "np.round(lakeland_retriever[\"rating(over_10)\"].mean(),2)"
   ]
  },
  {
   "cell_type": "markdown",
   "id": "88197557",
   "metadata": {},
   "source": [
    "#### Insight:\n",
    "From the analysis, I can deduce that dogs that are of Lakeland Terrier breed are generally good dogs.\n",
    "This is because their average rating is above 10.\n",
    "\n",
    "Please, note that this result is based on average. There are also bad dogs among them. But there are more good dogs than bad dogs among the breed."
   ]
  },
  {
   "cell_type": "code",
   "execution_count": null,
   "id": "639b23af",
   "metadata": {
    "scrolled": true
   },
   "outputs": [],
   "source": []
  },
  {
   "cell_type": "code",
   "execution_count": null,
   "id": "e2c87995",
   "metadata": {},
   "outputs": [],
   "source": []
  },
  {
   "cell_type": "markdown",
   "id": "5da48617",
   "metadata": {},
   "source": [
    "## Research Question 8\n",
    "\n",
    "### Which dog breed did dog lovers  liked and retweeted the least?\n",
    "-  #### Are dogs of the breed generally bad dogs.\n"
   ]
  },
  {
   "cell_type": "code",
   "execution_count": null,
   "id": "88d02c1b",
   "metadata": {},
   "outputs": [],
   "source": []
  },
  {
   "cell_type": "code",
   "execution_count": null,
   "id": "8c745cee",
   "metadata": {
    "scrolled": true
   },
   "outputs": [],
   "source": [
    "# Record of dog with the lowest number of likes.\n",
    "dog[dog[\"total_likes\"] == dog[\"total_likes\"].min()]"
   ]
  },
  {
   "cell_type": "code",
   "execution_count": null,
   "id": "13619f9f",
   "metadata": {
    "scrolled": true
   },
   "outputs": [],
   "source": [
    "# Record of dog with the lowest number of retweets.\n",
    "dog[dog[\"total_retweets\"] == dog[\"total_retweets\"].min()]"
   ]
  },
  {
   "cell_type": "markdown",
   "id": "13a723ee",
   "metadata": {},
   "source": [
    "#### Insight:\n",
    "From the above result, I found that the dog with the tweet id of 666102155909144576 was liked and retweeted the least by dog lovers. The dog belong to the English Setter breed."
   ]
  },
  {
   "cell_type": "markdown",
   "id": "b0893385",
   "metadata": {},
   "source": [
    "#### Are dogs of the breed(English Setter) generally good or dogs."
   ]
  },
  {
   "cell_type": "code",
   "execution_count": null,
   "id": "2c6e1a25",
   "metadata": {
    "scrolled": true
   },
   "outputs": [],
   "source": [
    "# Record of dogs that belong to the English Setter breed.\n",
    "\n",
    "english_setter = dog[dog[\"dog_breed\"].str.contains(\"English Setter\")]"
   ]
  },
  {
   "cell_type": "code",
   "execution_count": null,
   "id": "4d46ecc7",
   "metadata": {
    "scrolled": true
   },
   "outputs": [],
   "source": [
    "#  The average rating of dogs that are of English Setter breed.\n",
    "\n",
    "np.round(english_setter[\"rating(over_10)\"].mean(), 2)"
   ]
  },
  {
   "cell_type": "markdown",
   "id": "b908b724",
   "metadata": {},
   "source": [
    "#### Insight:\n",
    "From the result above, I can deduce that dogs that are of English Setter breed are generally bad dogs.\n",
    "This is because their average rating is below 10.\n",
    "\n",
    "Please, note that this result is based on average. There are also good dogs among them. But it appears there are more bad dogs than good dogs among the breed."
   ]
  },
  {
   "cell_type": "code",
   "execution_count": null,
   "id": "d23c0edc",
   "metadata": {},
   "outputs": [],
   "source": []
  },
  {
   "cell_type": "markdown",
   "id": "8f19c668",
   "metadata": {},
   "source": [
    "### Conclusion\n",
    "\n",
    "\n",
    "- Dog with high ratings tend to be liked and retweeted more by dog lovers.\n",
    "- Dogs with low ratings are retweeted less by dog lovers.\n",
    "- Dog lovers sentiment seem to agree with the ratings of the dog poster.\n",
    "- It appears that if the dog rating is very low or below 10, it’s more likely to be retweeted and liked less by dog lovers.\n",
    "\n",
    "### Limitation:\n",
    "In this project, I did not explore the date in which dogs ratings were tweeted. \n",
    "It’s important to know that the number of followers WeRateDogs have at the time of tweeting could impact the number of likes and retweets.\n",
    "Dogs posted in 2016 and 2017 are more likely to have more likes than dogs posted in 2015. That’s because the number of followers has multiplied over the years.\n",
    "Dogs posted in 2015 are more likely to receive low reactions because the account was created in the same year. Hence, I couldn’t draw conclusions on such dogs.\n",
    "\n",
    "\n",
    "I must also mention that my analysis is limited and do not draw absolute conclusion on why dogs receives more reaction than other dogs. Further analysis needs to be carried out through advanced processes such as machine learning in order to draw conclusion on how dogs  with low reactions differ from dogs with high reactions from dog lovers.\n"
   ]
  },
  {
   "cell_type": "markdown",
   "id": "bc7922ee",
   "metadata": {},
   "source": []
  }
 ],
 "metadata": {
  "kernelspec": {
   "display_name": "Python 3 (ipykernel)",
   "language": "python",
   "name": "python3"
  },
  "language_info": {
   "codemirror_mode": {
    "name": "ipython",
    "version": 3
   },
   "file_extension": ".py",
   "mimetype": "text/x-python",
   "name": "python",
   "nbconvert_exporter": "python",
   "pygments_lexer": "ipython3",
   "version": "3.9.7"
  }
 },
 "nbformat": 4,
 "nbformat_minor": 5
}
